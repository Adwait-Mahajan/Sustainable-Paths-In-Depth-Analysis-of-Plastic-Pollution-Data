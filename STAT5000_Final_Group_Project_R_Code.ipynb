{
  "nbformat": 4,
  "nbformat_minor": 0,
  "metadata": {
    "colab": {
      "provenance": []
    },
    "kernelspec": {
      "name": "ir",
      "display_name": "R"
    },
    "language_info": {
      "name": "R"
    }
  },
  "cells": [
    {
      "cell_type": "markdown",
      "source": [
        "# Statistics and Applications 1 - Final Group Project"
      ],
      "metadata": {
        "id": "m_EJ7zZ0wf1p"
      }
    },
    {
      "cell_type": "markdown",
      "source": [
        "**Team Members:**\n",
        "\n",
        "Adwait Mahajan -\n",
        "\n",
        "Aman Rathi -\n",
        "\n",
        "Sneha Subramanian - snsu5071\n",
        "\n",
        "Shreyash Sahare - shsa7246"
      ],
      "metadata": {
        "id": "pWBJ2bLOwhPH"
      }
    },
    {
      "cell_type": "code",
      "execution_count": null,
      "metadata": {
        "id": "67QaXzqzoNoN"
      },
      "outputs": [],
      "source": [
        "# Replace 'your_file_path.csv' with the actual path to your CSV file\n",
        "file_path <- '/content/Cleaned_Data_Plastic.csv'\n",
        "\n",
        "# Read the CSV file into a data frame\n",
        "data <- read.csv(file_path)"
      ]
    },
    {
      "cell_type": "code",
      "source": [
        "data"
      ],
      "metadata": {
        "colab": {
          "base_uri": "https://localhost:8080/",
          "height": 1000
        },
        "id": "M6I2B2KToesj",
        "outputId": "aa889f98-bea7-497e-9d14-f99f3502dcac"
      },
      "execution_count": null,
      "outputs": [
        {
          "output_type": "display_data",
          "data": {
            "text/html": [
              "<table class=\"dataframe\">\n",
              "<caption>A data.frame: 7162 × 13</caption>\n",
              "<thead>\n",
              "\t<tr><th scope=col>country</th><th scope=col>year</th><th scope=col>parent_company</th><th scope=col>hdpe</th><th scope=col>ldpe</th><th scope=col>o</th><th scope=col>pet</th><th scope=col>pp</th><th scope=col>ps</th><th scope=col>pvc</th><th scope=col>grand_total</th><th scope=col>num_events</th><th scope=col>volunteers</th></tr>\n",
              "\t<tr><th scope=col>&lt;chr&gt;</th><th scope=col>&lt;int&gt;</th><th scope=col>&lt;chr&gt;</th><th scope=col>&lt;dbl&gt;</th><th scope=col>&lt;dbl&gt;</th><th scope=col>&lt;dbl&gt;</th><th scope=col>&lt;dbl&gt;</th><th scope=col>&lt;dbl&gt;</th><th scope=col>&lt;dbl&gt;</th><th scope=col>&lt;dbl&gt;</th><th scope=col>&lt;dbl&gt;</th><th scope=col>&lt;int&gt;</th><th scope=col>&lt;dbl&gt;</th></tr>\n",
              "</thead>\n",
              "<tbody>\n",
              "\t<tr><td>Argentina</td><td>2019</td><td>Grand Total           </td><td>215</td><td>55</td><td>607</td><td>1376</td><td>281</td><td>116</td><td>18</td><td>2668</td><td>4</td><td>243</td></tr>\n",
              "\t<tr><td>Argentina</td><td>2019</td><td>Unbranded             </td><td>155</td><td>50</td><td>532</td><td> 848</td><td>122</td><td>114</td><td>17</td><td>1838</td><td>4</td><td>243</td></tr>\n",
              "\t<tr><td>Argentina</td><td>2019</td><td>The Coca-Cola Company </td><td>  0</td><td> 0</td><td>  0</td><td> 222</td><td> 35</td><td>  0</td><td> 0</td><td> 257</td><td>4</td><td>243</td></tr>\n",
              "\t<tr><td>Argentina</td><td>2019</td><td>Secco                 </td><td>  0</td><td> 0</td><td>  0</td><td>  39</td><td>  4</td><td>  0</td><td> 0</td><td>  43</td><td>4</td><td>243</td></tr>\n",
              "\t<tr><td>Argentina</td><td>2019</td><td>Doble Cola            </td><td>  0</td><td> 0</td><td>  0</td><td>  38</td><td>  0</td><td>  0</td><td> 0</td><td>  38</td><td>4</td><td>243</td></tr>\n",
              "\t<tr><td>Argentina</td><td>2019</td><td>Pritty                </td><td>  0</td><td> 0</td><td>  0</td><td>  22</td><td>  7</td><td>  0</td><td> 0</td><td>  29</td><td>4</td><td>243</td></tr>\n",
              "\t<tr><td>Argentina</td><td>2019</td><td>PepsiCo               </td><td>  0</td><td> 0</td><td>  0</td><td>  21</td><td>  6</td><td>  0</td><td> 0</td><td>  27</td><td>4</td><td>243</td></tr>\n",
              "\t<tr><td>Argentina</td><td>2019</td><td>Casoni                </td><td>  0</td><td> 0</td><td>  0</td><td>  26</td><td>  0</td><td>  0</td><td> 0</td><td>  26</td><td>4</td><td>243</td></tr>\n",
              "\t<tr><td>Argentina</td><td>2019</td><td>Villa Del Sur - Levite</td><td>  0</td><td> 0</td><td>  0</td><td>  19</td><td>  1</td><td>  0</td><td> 0</td><td>  20</td><td>4</td><td>243</td></tr>\n",
              "\t<tr><td>Argentina</td><td>2019</td><td>Manaos                </td><td>  0</td><td> 0</td><td>  0</td><td>  14</td><td>  4</td><td>  0</td><td> 0</td><td>  18</td><td>4</td><td>243</td></tr>\n",
              "\t<tr><td>Argentina</td><td>2019</td><td>La Bichy Ahora        </td><td>  0</td><td> 0</td><td>  0</td><td>  14</td><td>  3</td><td>  0</td><td> 0</td><td>  17</td><td>4</td><td>243</td></tr>\n",
              "\t<tr><td>Argentina</td><td>2019</td><td>Villavicencio         </td><td>  0</td><td> 0</td><td>  0</td><td>  14</td><td>  1</td><td>  0</td><td> 0</td><td>  15</td><td>4</td><td>243</td></tr>\n",
              "\t<tr><td>Argentina</td><td>2019</td><td>Eco De Los Andes      </td><td>  0</td><td> 0</td><td>  0</td><td>  14</td><td>  0</td><td>  0</td><td> 0</td><td>  14</td><td>4</td><td>243</td></tr>\n",
              "\t<tr><td>Argentina</td><td>2019</td><td>Cavatini              </td><td>  0</td><td> 0</td><td> 13</td><td>   0</td><td>  0</td><td>  0</td><td> 0</td><td>  13</td><td>4</td><td>243</td></tr>\n",
              "\t<tr><td>Argentina</td><td>2019</td><td>Villa Del Sur         </td><td>  0</td><td> 0</td><td>  0</td><td>   8</td><td>  3</td><td>  0</td><td> 0</td><td>  11</td><td>4</td><td>243</td></tr>\n",
              "\t<tr><td>Argentina</td><td>2019</td><td>Cepita                </td><td>  0</td><td> 0</td><td>  0</td><td>   9</td><td>  0</td><td>  0</td><td> 0</td><td>   9</td><td>4</td><td>243</td></tr>\n",
              "\t<tr><td>Argentina</td><td>2019</td><td>Livra                 </td><td>  0</td><td> 0</td><td>  0</td><td>   5</td><td>  4</td><td>  0</td><td> 0</td><td>   9</td><td>4</td><td>243</td></tr>\n",
              "\t<tr><td>Argentina</td><td>2019</td><td>Nestlé                </td><td>  1</td><td> 0</td><td>  0</td><td>   6</td><td>  2</td><td>  0</td><td> 0</td><td>   9</td><td>4</td><td>243</td></tr>\n",
              "\t<tr><td>Argentina</td><td>2019</td><td>Vino Toro             </td><td>  0</td><td> 0</td><td>  8</td><td>   0</td><td>  0</td><td>  0</td><td> 0</td><td>   8</td><td>4</td><td>243</td></tr>\n",
              "\t<tr><td>Argentina</td><td>2019</td><td>Frutafiel             </td><td>  0</td><td> 0</td><td>  0</td><td>   6</td><td>  1</td><td>  0</td><td> 0</td><td>   7</td><td>4</td><td>243</td></tr>\n",
              "\t<tr><td>Argentina</td><td>2019</td><td>Unilever              </td><td>  1</td><td> 0</td><td>  3</td><td>   1</td><td>  2</td><td>  0</td><td> 0</td><td>   7</td><td>4</td><td>243</td></tr>\n",
              "\t<tr><td>Argentina</td><td>2019</td><td>Arcor                 </td><td>  0</td><td> 0</td><td>  1</td><td>   0</td><td>  5</td><td>  0</td><td> 0</td><td>   6</td><td>4</td><td>243</td></tr>\n",
              "\t<tr><td>Argentina</td><td>2019</td><td>SC Johnson            </td><td>  1</td><td> 1</td><td>  3</td><td>   0</td><td>  0</td><td>  0</td><td> 0</td><td>   5</td><td>4</td><td>243</td></tr>\n",
              "\t<tr><td>Argentina</td><td>2019</td><td>Seven Up              </td><td>  0</td><td> 0</td><td>  0</td><td>   5</td><td>  0</td><td>  0</td><td> 0</td><td>   5</td><td>4</td><td>243</td></tr>\n",
              "\t<tr><td>Argentina</td><td>2019</td><td>Dea                   </td><td>  0</td><td> 0</td><td>  0</td><td>   3</td><td>  2</td><td>  0</td><td> 0</td><td>   5</td><td>4</td><td>243</td></tr>\n",
              "\t<tr><td>Argentina</td><td>2019</td><td>Sierra De Los Padres  </td><td>  0</td><td> 0</td><td>  0</td><td>   4</td><td>  1</td><td>  0</td><td> 0</td><td>   5</td><td>4</td><td>243</td></tr>\n",
              "\t<tr><td>Argentina</td><td>2019</td><td>The Clorox Group      </td><td>  4</td><td> 0</td><td>  0</td><td>   0</td><td>  1</td><td>  0</td><td> 0</td><td>   5</td><td>4</td><td>243</td></tr>\n",
              "\t<tr><td>Argentina</td><td>2019</td><td>Goliat                </td><td>  0</td><td> 0</td><td>  0</td><td>   2</td><td>  2</td><td>  0</td><td> 0</td><td>   4</td><td>4</td><td>243</td></tr>\n",
              "\t<tr><td>Argentina</td><td>2019</td><td>Pipas                 </td><td>  0</td><td> 0</td><td>  0</td><td>   0</td><td>  4</td><td>  0</td><td> 0</td><td>   4</td><td>4</td><td>243</td></tr>\n",
              "\t<tr><td>Argentina</td><td>2019</td><td>Mondelez International</td><td>  0</td><td> 0</td><td>  0</td><td>   0</td><td>  4</td><td>  0</td><td> 0</td><td>   4</td><td>4</td><td>243</td></tr>\n",
              "\t<tr><td>⋮</td><td>⋮</td><td>⋮</td><td>⋮</td><td>⋮</td><td>⋮</td><td>⋮</td><td>⋮</td><td>⋮</td><td>⋮</td><td>⋮</td><td>⋮</td><td>⋮</td></tr>\n",
              "\t<tr><td>Vietnam</td><td>2020</td><td>Singapore                                                  </td><td> 0</td><td>  0</td><td>   1</td><td>  0</td><td>  0</td><td>  0</td><td>0</td><td>   1</td><td>6</td><td>27</td></tr>\n",
              "\t<tr><td>Vietnam</td><td>2020</td><td>Stada - Viet oint Venture Co., Ltd                         </td><td> 0</td><td>  0</td><td>   1</td><td>  0</td><td>  0</td><td>  0</td><td>0</td><td>   1</td><td>6</td><td>27</td></tr>\n",
              "\t<tr><td>Vietnam</td><td>2020</td><td>SUNTORT Beverage Co., Ltd                                  </td><td> 0</td><td>  0</td><td>   0</td><td>  1</td><td>  0</td><td>  0</td><td>0</td><td>   1</td><td>6</td><td>27</td></tr>\n",
              "\t<tr><td>Vietnam</td><td>2020</td><td>Tabacco Vietnam                                            </td><td> 0</td><td>  0</td><td>   8</td><td>  0</td><td>  0</td><td>  0</td><td>0</td><td>   8</td><td>6</td><td>27</td></tr>\n",
              "\t<tr><td>Vietnam</td><td>2020</td><td>Tan Hiep Phat Trading - Service Co., Ltd                   </td><td> 0</td><td>  0</td><td>   0</td><td> 13</td><td>  0</td><td>  0</td><td>0</td><td>  13</td><td>6</td><td>27</td></tr>\n",
              "\t<tr><td>Vietnam</td><td>2020</td><td>Th Group                                                   </td><td> 0</td><td>  0</td><td>   0</td><td>  2</td><td>  0</td><td>  0</td><td>0</td><td>   2</td><td>6</td><td>27</td></tr>\n",
              "\t<tr><td>Vietnam</td><td>2020</td><td>TH true milk Group                                         </td><td> 0</td><td>  0</td><td>  35</td><td>  0</td><td>  0</td><td>  0</td><td>0</td><td>  35</td><td>6</td><td>27</td></tr>\n",
              "\t<tr><td>Vietnam</td><td>2020</td><td>Thach Bich mineral water factory                           </td><td> 0</td><td>  0</td><td>   0</td><td>  1</td><td>  0</td><td>  0</td><td>0</td><td>   1</td><td>6</td><td>27</td></tr>\n",
              "\t<tr><td>Vietnam</td><td>2020</td><td>Thack Bich Mineral                                         </td><td> 0</td><td>  0</td><td>   0</td><td> 27</td><td>  0</td><td>  0</td><td>0</td><td>  27</td><td>6</td><td>27</td></tr>\n",
              "\t<tr><td>Vietnam</td><td>2020</td><td>Thailand                                                   </td><td> 0</td><td>  0</td><td>   3</td><td>  0</td><td>  0</td><td>  0</td><td>0</td><td>   3</td><td>6</td><td>27</td></tr>\n",
              "\t<tr><td>Vietnam</td><td>2020</td><td>Thanh An Co., LTD                                          </td><td> 0</td><td>  0</td><td>   9</td><td>  0</td><td>  0</td><td>  0</td><td>0</td><td>   9</td><td>6</td><td>27</td></tr>\n",
              "\t<tr><td>Vietnam</td><td>2020</td><td>The Coca-Cola Company                                      </td><td> 0</td><td>  0</td><td>   1</td><td> 83</td><td>  1</td><td>  0</td><td>0</td><td>  85</td><td>6</td><td>27</td></tr>\n",
              "\t<tr><td>Vietnam</td><td>2020</td><td>Thien Ha Kameda Joint Stock Company - Thua Thien Hue branch</td><td> 0</td><td>  0</td><td>   9</td><td>  0</td><td>  0</td><td>  0</td><td>0</td><td>   9</td><td>6</td><td>27</td></tr>\n",
              "\t<tr><td>Vietnam</td><td>2020</td><td>Thuan Phong production, trade, export and import Company   </td><td> 0</td><td>  0</td><td>   0</td><td>  0</td><td>  0</td><td>  0</td><td>1</td><td>   1</td><td>6</td><td>27</td></tr>\n",
              "\t<tr><td>Vietnam</td><td>2020</td><td>Tien Nga Production and Trade SJC                          </td><td> 0</td><td>  0</td><td>   0</td><td>  0</td><td>  0</td><td>  0</td><td>0</td><td>   1</td><td>6</td><td>27</td></tr>\n",
              "\t<tr><td>Vietnam</td><td>2020</td><td>TRUNG NGUYEN GROUP CORPORATION                             </td><td> 0</td><td>  0</td><td>   6</td><td>  0</td><td>  0</td><td>  0</td><td>0</td><td>   6</td><td>6</td><td>27</td></tr>\n",
              "\t<tr><td>Vietnam</td><td>2020</td><td>Ttach Bach Mineral                                         </td><td> 0</td><td>  0</td><td>   0</td><td> 27</td><td>  0</td><td>  0</td><td>0</td><td>  27</td><td>6</td><td>27</td></tr>\n",
              "\t<tr><td>Vietnam</td><td>2020</td><td>Tuong An Vegetable Oil JSC                                 </td><td> 0</td><td>  0</td><td>   0</td><td>  1</td><td>  0</td><td>  0</td><td>0</td><td>   1</td><td>6</td><td>27</td></tr>\n",
              "\t<tr><td>Vietnam</td><td>2020</td><td>Unbranded                                                  </td><td>78</td><td>163</td><td>1900</td><td>237</td><td>261</td><td>183</td><td>2</td><td>2932</td><td>6</td><td>27</td></tr>\n",
              "\t<tr><td>Vietnam</td><td>2020</td><td>Uniben                                                     </td><td> 0</td><td>  0</td><td>   0</td><td>  4</td><td>  0</td><td>  0</td><td>0</td><td>   4</td><td>6</td><td>27</td></tr>\n",
              "\t<tr><td>Vietnam</td><td>2020</td><td>Uniben JSC                                                 </td><td> 0</td><td>  0</td><td>  20</td><td>  0</td><td>  0</td><td>  0</td><td>0</td><td>  20</td><td>6</td><td>27</td></tr>\n",
              "\t<tr><td>Vietnam</td><td>2020</td><td>Unilever                                                   </td><td>12</td><td>  3</td><td>  45</td><td> 24</td><td>  1</td><td>  0</td><td>1</td><td>  86</td><td>6</td><td>27</td></tr>\n",
              "\t<tr><td>Vietnam</td><td>2020</td><td>Universal Robina Corporation                               </td><td> 0</td><td>  0</td><td>   3</td><td> 10</td><td>  0</td><td>  0</td><td>0</td><td>  13</td><td>6</td><td>27</td></tr>\n",
              "\t<tr><td>Vietnam</td><td>2020</td><td>Vietnam Dairy Products Jsc                                 </td><td> 6</td><td>  0</td><td>  70</td><td>  0</td><td>  1</td><td> 11</td><td>0</td><td>  88</td><td>6</td><td>27</td></tr>\n",
              "\t<tr><td>Vietnam</td><td>2020</td><td>Vikoda                                                     </td><td> 0</td><td>  0</td><td>   0</td><td>  3</td><td>  0</td><td>  0</td><td>0</td><td>   3</td><td>6</td><td>27</td></tr>\n",
              "\t<tr><td>Vietnam</td><td>2020</td><td>Vinamilk                                                   </td><td> 0</td><td>  0</td><td>  91</td><td>  1</td><td>  0</td><td>  0</td><td>0</td><td>  92</td><td>6</td><td>27</td></tr>\n",
              "\t<tr><td>Vietnam</td><td>2020</td><td>VINH HAO CO.                                               </td><td> 0</td><td>  0</td><td>   0</td><td>  4</td><td>  0</td><td>  0</td><td>0</td><td>   4</td><td>6</td><td>27</td></tr>\n",
              "\t<tr><td>Vietnam</td><td>2020</td><td>Vital                                                      </td><td> 0</td><td>  0</td><td>   0</td><td>  4</td><td>  0</td><td>  0</td><td>0</td><td>   4</td><td>6</td><td>27</td></tr>\n",
              "\t<tr><td>Vietnam</td><td>2020</td><td>VM Group                                                   </td><td> 2</td><td>  0</td><td>   0</td><td>  0</td><td>  0</td><td>  0</td><td>0</td><td>   2</td><td>6</td><td>27</td></tr>\n",
              "\t<tr><td>Vietnam</td><td>2020</td><td>Yakult                                                     </td><td> 0</td><td>  0</td><td>   0</td><td>  0</td><td>  2</td><td>  0</td><td>0</td><td>   2</td><td>6</td><td>27</td></tr>\n",
              "</tbody>\n",
              "</table>\n"
            ],
            "text/markdown": "\nA data.frame: 7162 × 13\n\n| country &lt;chr&gt; | year &lt;int&gt; | parent_company &lt;chr&gt; | hdpe &lt;dbl&gt; | ldpe &lt;dbl&gt; | o &lt;dbl&gt; | pet &lt;dbl&gt; | pp &lt;dbl&gt; | ps &lt;dbl&gt; | pvc &lt;dbl&gt; | grand_total &lt;dbl&gt; | num_events &lt;int&gt; | volunteers &lt;dbl&gt; |\n|---|---|---|---|---|---|---|---|---|---|---|---|---|\n| Argentina | 2019 | Grand Total            | 215 | 55 | 607 | 1376 | 281 | 116 | 18 | 2668 | 4 | 243 |\n| Argentina | 2019 | Unbranded              | 155 | 50 | 532 |  848 | 122 | 114 | 17 | 1838 | 4 | 243 |\n| Argentina | 2019 | The Coca-Cola Company  |   0 |  0 |   0 |  222 |  35 |   0 |  0 |  257 | 4 | 243 |\n| Argentina | 2019 | Secco                  |   0 |  0 |   0 |   39 |   4 |   0 |  0 |   43 | 4 | 243 |\n| Argentina | 2019 | Doble Cola             |   0 |  0 |   0 |   38 |   0 |   0 |  0 |   38 | 4 | 243 |\n| Argentina | 2019 | Pritty                 |   0 |  0 |   0 |   22 |   7 |   0 |  0 |   29 | 4 | 243 |\n| Argentina | 2019 | PepsiCo                |   0 |  0 |   0 |   21 |   6 |   0 |  0 |   27 | 4 | 243 |\n| Argentina | 2019 | Casoni                 |   0 |  0 |   0 |   26 |   0 |   0 |  0 |   26 | 4 | 243 |\n| Argentina | 2019 | Villa Del Sur - Levite |   0 |  0 |   0 |   19 |   1 |   0 |  0 |   20 | 4 | 243 |\n| Argentina | 2019 | Manaos                 |   0 |  0 |   0 |   14 |   4 |   0 |  0 |   18 | 4 | 243 |\n| Argentina | 2019 | La Bichy Ahora         |   0 |  0 |   0 |   14 |   3 |   0 |  0 |   17 | 4 | 243 |\n| Argentina | 2019 | Villavicencio          |   0 |  0 |   0 |   14 |   1 |   0 |  0 |   15 | 4 | 243 |\n| Argentina | 2019 | Eco De Los Andes       |   0 |  0 |   0 |   14 |   0 |   0 |  0 |   14 | 4 | 243 |\n| Argentina | 2019 | Cavatini               |   0 |  0 |  13 |    0 |   0 |   0 |  0 |   13 | 4 | 243 |\n| Argentina | 2019 | Villa Del Sur          |   0 |  0 |   0 |    8 |   3 |   0 |  0 |   11 | 4 | 243 |\n| Argentina | 2019 | Cepita                 |   0 |  0 |   0 |    9 |   0 |   0 |  0 |    9 | 4 | 243 |\n| Argentina | 2019 | Livra                  |   0 |  0 |   0 |    5 |   4 |   0 |  0 |    9 | 4 | 243 |\n| Argentina | 2019 | Nestlé                 |   1 |  0 |   0 |    6 |   2 |   0 |  0 |    9 | 4 | 243 |\n| Argentina | 2019 | Vino Toro              |   0 |  0 |   8 |    0 |   0 |   0 |  0 |    8 | 4 | 243 |\n| Argentina | 2019 | Frutafiel              |   0 |  0 |   0 |    6 |   1 |   0 |  0 |    7 | 4 | 243 |\n| Argentina | 2019 | Unilever               |   1 |  0 |   3 |    1 |   2 |   0 |  0 |    7 | 4 | 243 |\n| Argentina | 2019 | Arcor                  |   0 |  0 |   1 |    0 |   5 |   0 |  0 |    6 | 4 | 243 |\n| Argentina | 2019 | SC Johnson             |   1 |  1 |   3 |    0 |   0 |   0 |  0 |    5 | 4 | 243 |\n| Argentina | 2019 | Seven Up               |   0 |  0 |   0 |    5 |   0 |   0 |  0 |    5 | 4 | 243 |\n| Argentina | 2019 | Dea                    |   0 |  0 |   0 |    3 |   2 |   0 |  0 |    5 | 4 | 243 |\n| Argentina | 2019 | Sierra De Los Padres   |   0 |  0 |   0 |    4 |   1 |   0 |  0 |    5 | 4 | 243 |\n| Argentina | 2019 | The Clorox Group       |   4 |  0 |   0 |    0 |   1 |   0 |  0 |    5 | 4 | 243 |\n| Argentina | 2019 | Goliat                 |   0 |  0 |   0 |    2 |   2 |   0 |  0 |    4 | 4 | 243 |\n| Argentina | 2019 | Pipas                  |   0 |  0 |   0 |    0 |   4 |   0 |  0 |    4 | 4 | 243 |\n| Argentina | 2019 | Mondelez International |   0 |  0 |   0 |    0 |   4 |   0 |  0 |    4 | 4 | 243 |\n| ⋮ | ⋮ | ⋮ | ⋮ | ⋮ | ⋮ | ⋮ | ⋮ | ⋮ | ⋮ | ⋮ | ⋮ | ⋮ |\n| Vietnam | 2020 | Singapore                                                   |  0 |   0 |    1 |   0 |   0 |   0 | 0 |    1 | 6 | 27 |\n| Vietnam | 2020 | Stada - Viet oint Venture Co., Ltd                          |  0 |   0 |    1 |   0 |   0 |   0 | 0 |    1 | 6 | 27 |\n| Vietnam | 2020 | SUNTORT Beverage Co., Ltd                                   |  0 |   0 |    0 |   1 |   0 |   0 | 0 |    1 | 6 | 27 |\n| Vietnam | 2020 | Tabacco Vietnam                                             |  0 |   0 |    8 |   0 |   0 |   0 | 0 |    8 | 6 | 27 |\n| Vietnam | 2020 | Tan Hiep Phat Trading - Service Co., Ltd                    |  0 |   0 |    0 |  13 |   0 |   0 | 0 |   13 | 6 | 27 |\n| Vietnam | 2020 | Th Group                                                    |  0 |   0 |    0 |   2 |   0 |   0 | 0 |    2 | 6 | 27 |\n| Vietnam | 2020 | TH true milk Group                                          |  0 |   0 |   35 |   0 |   0 |   0 | 0 |   35 | 6 | 27 |\n| Vietnam | 2020 | Thach Bich mineral water factory                            |  0 |   0 |    0 |   1 |   0 |   0 | 0 |    1 | 6 | 27 |\n| Vietnam | 2020 | Thack Bich Mineral                                          |  0 |   0 |    0 |  27 |   0 |   0 | 0 |   27 | 6 | 27 |\n| Vietnam | 2020 | Thailand                                                    |  0 |   0 |    3 |   0 |   0 |   0 | 0 |    3 | 6 | 27 |\n| Vietnam | 2020 | Thanh An Co., LTD                                           |  0 |   0 |    9 |   0 |   0 |   0 | 0 |    9 | 6 | 27 |\n| Vietnam | 2020 | The Coca-Cola Company                                       |  0 |   0 |    1 |  83 |   1 |   0 | 0 |   85 | 6 | 27 |\n| Vietnam | 2020 | Thien Ha Kameda Joint Stock Company - Thua Thien Hue branch |  0 |   0 |    9 |   0 |   0 |   0 | 0 |    9 | 6 | 27 |\n| Vietnam | 2020 | Thuan Phong production, trade, export and import Company    |  0 |   0 |    0 |   0 |   0 |   0 | 1 |    1 | 6 | 27 |\n| Vietnam | 2020 | Tien Nga Production and Trade SJC                           |  0 |   0 |    0 |   0 |   0 |   0 | 0 |    1 | 6 | 27 |\n| Vietnam | 2020 | TRUNG NGUYEN GROUP CORPORATION                              |  0 |   0 |    6 |   0 |   0 |   0 | 0 |    6 | 6 | 27 |\n| Vietnam | 2020 | Ttach Bach Mineral                                          |  0 |   0 |    0 |  27 |   0 |   0 | 0 |   27 | 6 | 27 |\n| Vietnam | 2020 | Tuong An Vegetable Oil JSC                                  |  0 |   0 |    0 |   1 |   0 |   0 | 0 |    1 | 6 | 27 |\n| Vietnam | 2020 | Unbranded                                                   | 78 | 163 | 1900 | 237 | 261 | 183 | 2 | 2932 | 6 | 27 |\n| Vietnam | 2020 | Uniben                                                      |  0 |   0 |    0 |   4 |   0 |   0 | 0 |    4 | 6 | 27 |\n| Vietnam | 2020 | Uniben JSC                                                  |  0 |   0 |   20 |   0 |   0 |   0 | 0 |   20 | 6 | 27 |\n| Vietnam | 2020 | Unilever                                                    | 12 |   3 |   45 |  24 |   1 |   0 | 1 |   86 | 6 | 27 |\n| Vietnam | 2020 | Universal Robina Corporation                                |  0 |   0 |    3 |  10 |   0 |   0 | 0 |   13 | 6 | 27 |\n| Vietnam | 2020 | Vietnam Dairy Products Jsc                                  |  6 |   0 |   70 |   0 |   1 |  11 | 0 |   88 | 6 | 27 |\n| Vietnam | 2020 | Vikoda                                                      |  0 |   0 |    0 |   3 |   0 |   0 | 0 |    3 | 6 | 27 |\n| Vietnam | 2020 | Vinamilk                                                    |  0 |   0 |   91 |   1 |   0 |   0 | 0 |   92 | 6 | 27 |\n| Vietnam | 2020 | VINH HAO CO.                                                |  0 |   0 |    0 |   4 |   0 |   0 | 0 |    4 | 6 | 27 |\n| Vietnam | 2020 | Vital                                                       |  0 |   0 |    0 |   4 |   0 |   0 | 0 |    4 | 6 | 27 |\n| Vietnam | 2020 | VM Group                                                    |  2 |   0 |    0 |   0 |   0 |   0 | 0 |    2 | 6 | 27 |\n| Vietnam | 2020 | Yakult                                                      |  0 |   0 |    0 |   0 |   2 |   0 | 0 |    2 | 6 | 27 |\n\n",
            "text/latex": "A data.frame: 7162 × 13\n\\begin{tabular}{lllllllllllll}\n country & year & parent\\_company & hdpe & ldpe & o & pet & pp & ps & pvc & grand\\_total & num\\_events & volunteers\\\\\n <chr> & <int> & <chr> & <dbl> & <dbl> & <dbl> & <dbl> & <dbl> & <dbl> & <dbl> & <dbl> & <int> & <dbl>\\\\\n\\hline\n\t Argentina & 2019 & Grand Total            & 215 & 55 & 607 & 1376 & 281 & 116 & 18 & 2668 & 4 & 243\\\\\n\t Argentina & 2019 & Unbranded              & 155 & 50 & 532 &  848 & 122 & 114 & 17 & 1838 & 4 & 243\\\\\n\t Argentina & 2019 & The Coca-Cola Company  &   0 &  0 &   0 &  222 &  35 &   0 &  0 &  257 & 4 & 243\\\\\n\t Argentina & 2019 & Secco                  &   0 &  0 &   0 &   39 &   4 &   0 &  0 &   43 & 4 & 243\\\\\n\t Argentina & 2019 & Doble Cola             &   0 &  0 &   0 &   38 &   0 &   0 &  0 &   38 & 4 & 243\\\\\n\t Argentina & 2019 & Pritty                 &   0 &  0 &   0 &   22 &   7 &   0 &  0 &   29 & 4 & 243\\\\\n\t Argentina & 2019 & PepsiCo                &   0 &  0 &   0 &   21 &   6 &   0 &  0 &   27 & 4 & 243\\\\\n\t Argentina & 2019 & Casoni                 &   0 &  0 &   0 &   26 &   0 &   0 &  0 &   26 & 4 & 243\\\\\n\t Argentina & 2019 & Villa Del Sur - Levite &   0 &  0 &   0 &   19 &   1 &   0 &  0 &   20 & 4 & 243\\\\\n\t Argentina & 2019 & Manaos                 &   0 &  0 &   0 &   14 &   4 &   0 &  0 &   18 & 4 & 243\\\\\n\t Argentina & 2019 & La Bichy Ahora         &   0 &  0 &   0 &   14 &   3 &   0 &  0 &   17 & 4 & 243\\\\\n\t Argentina & 2019 & Villavicencio          &   0 &  0 &   0 &   14 &   1 &   0 &  0 &   15 & 4 & 243\\\\\n\t Argentina & 2019 & Eco De Los Andes       &   0 &  0 &   0 &   14 &   0 &   0 &  0 &   14 & 4 & 243\\\\\n\t Argentina & 2019 & Cavatini               &   0 &  0 &  13 &    0 &   0 &   0 &  0 &   13 & 4 & 243\\\\\n\t Argentina & 2019 & Villa Del Sur          &   0 &  0 &   0 &    8 &   3 &   0 &  0 &   11 & 4 & 243\\\\\n\t Argentina & 2019 & Cepita                 &   0 &  0 &   0 &    9 &   0 &   0 &  0 &    9 & 4 & 243\\\\\n\t Argentina & 2019 & Livra                  &   0 &  0 &   0 &    5 &   4 &   0 &  0 &    9 & 4 & 243\\\\\n\t Argentina & 2019 & Nestlé                 &   1 &  0 &   0 &    6 &   2 &   0 &  0 &    9 & 4 & 243\\\\\n\t Argentina & 2019 & Vino Toro              &   0 &  0 &   8 &    0 &   0 &   0 &  0 &    8 & 4 & 243\\\\\n\t Argentina & 2019 & Frutafiel              &   0 &  0 &   0 &    6 &   1 &   0 &  0 &    7 & 4 & 243\\\\\n\t Argentina & 2019 & Unilever               &   1 &  0 &   3 &    1 &   2 &   0 &  0 &    7 & 4 & 243\\\\\n\t Argentina & 2019 & Arcor                  &   0 &  0 &   1 &    0 &   5 &   0 &  0 &    6 & 4 & 243\\\\\n\t Argentina & 2019 & SC Johnson             &   1 &  1 &   3 &    0 &   0 &   0 &  0 &    5 & 4 & 243\\\\\n\t Argentina & 2019 & Seven Up               &   0 &  0 &   0 &    5 &   0 &   0 &  0 &    5 & 4 & 243\\\\\n\t Argentina & 2019 & Dea                    &   0 &  0 &   0 &    3 &   2 &   0 &  0 &    5 & 4 & 243\\\\\n\t Argentina & 2019 & Sierra De Los Padres   &   0 &  0 &   0 &    4 &   1 &   0 &  0 &    5 & 4 & 243\\\\\n\t Argentina & 2019 & The Clorox Group       &   4 &  0 &   0 &    0 &   1 &   0 &  0 &    5 & 4 & 243\\\\\n\t Argentina & 2019 & Goliat                 &   0 &  0 &   0 &    2 &   2 &   0 &  0 &    4 & 4 & 243\\\\\n\t Argentina & 2019 & Pipas                  &   0 &  0 &   0 &    0 &   4 &   0 &  0 &    4 & 4 & 243\\\\\n\t Argentina & 2019 & Mondelez International &   0 &  0 &   0 &    0 &   4 &   0 &  0 &    4 & 4 & 243\\\\\n\t ⋮ & ⋮ & ⋮ & ⋮ & ⋮ & ⋮ & ⋮ & ⋮ & ⋮ & ⋮ & ⋮ & ⋮ & ⋮\\\\\n\t Vietnam & 2020 & Singapore                                                   &  0 &   0 &    1 &   0 &   0 &   0 & 0 &    1 & 6 & 27\\\\\n\t Vietnam & 2020 & Stada - Viet oint Venture Co., Ltd                          &  0 &   0 &    1 &   0 &   0 &   0 & 0 &    1 & 6 & 27\\\\\n\t Vietnam & 2020 & SUNTORT Beverage Co., Ltd                                   &  0 &   0 &    0 &   1 &   0 &   0 & 0 &    1 & 6 & 27\\\\\n\t Vietnam & 2020 & Tabacco Vietnam                                             &  0 &   0 &    8 &   0 &   0 &   0 & 0 &    8 & 6 & 27\\\\\n\t Vietnam & 2020 & Tan Hiep Phat Trading - Service Co., Ltd                    &  0 &   0 &    0 &  13 &   0 &   0 & 0 &   13 & 6 & 27\\\\\n\t Vietnam & 2020 & Th Group                                                    &  0 &   0 &    0 &   2 &   0 &   0 & 0 &    2 & 6 & 27\\\\\n\t Vietnam & 2020 & TH true milk Group                                          &  0 &   0 &   35 &   0 &   0 &   0 & 0 &   35 & 6 & 27\\\\\n\t Vietnam & 2020 & Thach Bich mineral water factory                            &  0 &   0 &    0 &   1 &   0 &   0 & 0 &    1 & 6 & 27\\\\\n\t Vietnam & 2020 & Thack Bich Mineral                                          &  0 &   0 &    0 &  27 &   0 &   0 & 0 &   27 & 6 & 27\\\\\n\t Vietnam & 2020 & Thailand                                                    &  0 &   0 &    3 &   0 &   0 &   0 & 0 &    3 & 6 & 27\\\\\n\t Vietnam & 2020 & Thanh An Co., LTD                                           &  0 &   0 &    9 &   0 &   0 &   0 & 0 &    9 & 6 & 27\\\\\n\t Vietnam & 2020 & The Coca-Cola Company                                       &  0 &   0 &    1 &  83 &   1 &   0 & 0 &   85 & 6 & 27\\\\\n\t Vietnam & 2020 & Thien Ha Kameda Joint Stock Company - Thua Thien Hue branch &  0 &   0 &    9 &   0 &   0 &   0 & 0 &    9 & 6 & 27\\\\\n\t Vietnam & 2020 & Thuan Phong production, trade, export and import Company    &  0 &   0 &    0 &   0 &   0 &   0 & 1 &    1 & 6 & 27\\\\\n\t Vietnam & 2020 & Tien Nga Production and Trade SJC                           &  0 &   0 &    0 &   0 &   0 &   0 & 0 &    1 & 6 & 27\\\\\n\t Vietnam & 2020 & TRUNG NGUYEN GROUP CORPORATION                              &  0 &   0 &    6 &   0 &   0 &   0 & 0 &    6 & 6 & 27\\\\\n\t Vietnam & 2020 & Ttach Bach Mineral                                          &  0 &   0 &    0 &  27 &   0 &   0 & 0 &   27 & 6 & 27\\\\\n\t Vietnam & 2020 & Tuong An Vegetable Oil JSC                                  &  0 &   0 &    0 &   1 &   0 &   0 & 0 &    1 & 6 & 27\\\\\n\t Vietnam & 2020 & Unbranded                                                   & 78 & 163 & 1900 & 237 & 261 & 183 & 2 & 2932 & 6 & 27\\\\\n\t Vietnam & 2020 & Uniben                                                      &  0 &   0 &    0 &   4 &   0 &   0 & 0 &    4 & 6 & 27\\\\\n\t Vietnam & 2020 & Uniben JSC                                                  &  0 &   0 &   20 &   0 &   0 &   0 & 0 &   20 & 6 & 27\\\\\n\t Vietnam & 2020 & Unilever                                                    & 12 &   3 &   45 &  24 &   1 &   0 & 1 &   86 & 6 & 27\\\\\n\t Vietnam & 2020 & Universal Robina Corporation                                &  0 &   0 &    3 &  10 &   0 &   0 & 0 &   13 & 6 & 27\\\\\n\t Vietnam & 2020 & Vietnam Dairy Products Jsc                                  &  6 &   0 &   70 &   0 &   1 &  11 & 0 &   88 & 6 & 27\\\\\n\t Vietnam & 2020 & Vikoda                                                      &  0 &   0 &    0 &   3 &   0 &   0 & 0 &    3 & 6 & 27\\\\\n\t Vietnam & 2020 & Vinamilk                                                    &  0 &   0 &   91 &   1 &   0 &   0 & 0 &   92 & 6 & 27\\\\\n\t Vietnam & 2020 & VINH HAO CO.                                                &  0 &   0 &    0 &   4 &   0 &   0 & 0 &    4 & 6 & 27\\\\\n\t Vietnam & 2020 & Vital                                                       &  0 &   0 &    0 &   4 &   0 &   0 & 0 &    4 & 6 & 27\\\\\n\t Vietnam & 2020 & VM Group                                                    &  2 &   0 &    0 &   0 &   0 &   0 & 0 &    2 & 6 & 27\\\\\n\t Vietnam & 2020 & Yakult                                                      &  0 &   0 &    0 &   0 &   2 &   0 & 0 &    2 & 6 & 27\\\\\n\\end{tabular}\n",
            "text/plain": [
              "     country   year parent_company                                             \n",
              "1    Argentina 2019 Grand Total                                                \n",
              "2    Argentina 2019 Unbranded                                                  \n",
              "3    Argentina 2019 The Coca-Cola Company                                      \n",
              "4    Argentina 2019 Secco                                                      \n",
              "5    Argentina 2019 Doble Cola                                                 \n",
              "6    Argentina 2019 Pritty                                                     \n",
              "7    Argentina 2019 PepsiCo                                                    \n",
              "8    Argentina 2019 Casoni                                                     \n",
              "9    Argentina 2019 Villa Del Sur - Levite                                     \n",
              "10   Argentina 2019 Manaos                                                     \n",
              "11   Argentina 2019 La Bichy Ahora                                             \n",
              "12   Argentina 2019 Villavicencio                                              \n",
              "13   Argentina 2019 Eco De Los Andes                                           \n",
              "14   Argentina 2019 Cavatini                                                   \n",
              "15   Argentina 2019 Villa Del Sur                                              \n",
              "16   Argentina 2019 Cepita                                                     \n",
              "17   Argentina 2019 Livra                                                      \n",
              "18   Argentina 2019 Nestlé                                                     \n",
              "19   Argentina 2019 Vino Toro                                                  \n",
              "20   Argentina 2019 Frutafiel                                                  \n",
              "21   Argentina 2019 Unilever                                                   \n",
              "22   Argentina 2019 Arcor                                                      \n",
              "23   Argentina 2019 SC Johnson                                                 \n",
              "24   Argentina 2019 Seven Up                                                   \n",
              "25   Argentina 2019 Dea                                                        \n",
              "26   Argentina 2019 Sierra De Los Padres                                       \n",
              "27   Argentina 2019 The Clorox Group                                           \n",
              "28   Argentina 2019 Goliat                                                     \n",
              "29   Argentina 2019 Pipas                                                      \n",
              "30   Argentina 2019 Mondelez International                                     \n",
              "⋮    ⋮         ⋮    ⋮                                                          \n",
              "7133 Vietnam   2020 Singapore                                                  \n",
              "7134 Vietnam   2020 Stada - Viet oint Venture Co., Ltd                         \n",
              "7135 Vietnam   2020 SUNTORT Beverage Co., Ltd                                  \n",
              "7136 Vietnam   2020 Tabacco Vietnam                                            \n",
              "7137 Vietnam   2020 Tan Hiep Phat Trading - Service Co., Ltd                   \n",
              "7138 Vietnam   2020 Th Group                                                   \n",
              "7139 Vietnam   2020 TH true milk Group                                         \n",
              "7140 Vietnam   2020 Thach Bich mineral water factory                           \n",
              "7141 Vietnam   2020 Thack Bich Mineral                                         \n",
              "7142 Vietnam   2020 Thailand                                                   \n",
              "7143 Vietnam   2020 Thanh An Co., LTD                                          \n",
              "7144 Vietnam   2020 The Coca-Cola Company                                      \n",
              "7145 Vietnam   2020 Thien Ha Kameda Joint Stock Company - Thua Thien Hue branch\n",
              "7146 Vietnam   2020 Thuan Phong production, trade, export and import Company   \n",
              "7147 Vietnam   2020 Tien Nga Production and Trade SJC                          \n",
              "7148 Vietnam   2020 TRUNG NGUYEN GROUP CORPORATION                             \n",
              "7149 Vietnam   2020 Ttach Bach Mineral                                         \n",
              "7150 Vietnam   2020 Tuong An Vegetable Oil JSC                                 \n",
              "7151 Vietnam   2020 Unbranded                                                  \n",
              "7152 Vietnam   2020 Uniben                                                     \n",
              "7153 Vietnam   2020 Uniben JSC                                                 \n",
              "7154 Vietnam   2020 Unilever                                                   \n",
              "7155 Vietnam   2020 Universal Robina Corporation                               \n",
              "7156 Vietnam   2020 Vietnam Dairy Products Jsc                                 \n",
              "7157 Vietnam   2020 Vikoda                                                     \n",
              "7158 Vietnam   2020 Vinamilk                                                   \n",
              "7159 Vietnam   2020 VINH HAO CO.                                               \n",
              "7160 Vietnam   2020 Vital                                                      \n",
              "7161 Vietnam   2020 VM Group                                                   \n",
              "7162 Vietnam   2020 Yakult                                                     \n",
              "     hdpe ldpe o    pet  pp  ps  pvc grand_total num_events volunteers\n",
              "1    215  55   607  1376 281 116 18  2668        4          243       \n",
              "2    155  50   532   848 122 114 17  1838        4          243       \n",
              "3      0   0     0   222  35   0  0   257        4          243       \n",
              "4      0   0     0    39   4   0  0    43        4          243       \n",
              "5      0   0     0    38   0   0  0    38        4          243       \n",
              "6      0   0     0    22   7   0  0    29        4          243       \n",
              "7      0   0     0    21   6   0  0    27        4          243       \n",
              "8      0   0     0    26   0   0  0    26        4          243       \n",
              "9      0   0     0    19   1   0  0    20        4          243       \n",
              "10     0   0     0    14   4   0  0    18        4          243       \n",
              "11     0   0     0    14   3   0  0    17        4          243       \n",
              "12     0   0     0    14   1   0  0    15        4          243       \n",
              "13     0   0     0    14   0   0  0    14        4          243       \n",
              "14     0   0    13     0   0   0  0    13        4          243       \n",
              "15     0   0     0     8   3   0  0    11        4          243       \n",
              "16     0   0     0     9   0   0  0     9        4          243       \n",
              "17     0   0     0     5   4   0  0     9        4          243       \n",
              "18     1   0     0     6   2   0  0     9        4          243       \n",
              "19     0   0     8     0   0   0  0     8        4          243       \n",
              "20     0   0     0     6   1   0  0     7        4          243       \n",
              "21     1   0     3     1   2   0  0     7        4          243       \n",
              "22     0   0     1     0   5   0  0     6        4          243       \n",
              "23     1   1     3     0   0   0  0     5        4          243       \n",
              "24     0   0     0     5   0   0  0     5        4          243       \n",
              "25     0   0     0     3   2   0  0     5        4          243       \n",
              "26     0   0     0     4   1   0  0     5        4          243       \n",
              "27     4   0     0     0   1   0  0     5        4          243       \n",
              "28     0   0     0     2   2   0  0     4        4          243       \n",
              "29     0   0     0     0   4   0  0     4        4          243       \n",
              "30     0   0     0     0   4   0  0     4        4          243       \n",
              "⋮    ⋮    ⋮    ⋮    ⋮    ⋮   ⋮   ⋮   ⋮           ⋮          ⋮         \n",
              "7133  0     0     1   0    0   0 0      1        6          27        \n",
              "7134  0     0     1   0    0   0 0      1        6          27        \n",
              "7135  0     0     0   1    0   0 0      1        6          27        \n",
              "7136  0     0     8   0    0   0 0      8        6          27        \n",
              "7137  0     0     0  13    0   0 0     13        6          27        \n",
              "7138  0     0     0   2    0   0 0      2        6          27        \n",
              "7139  0     0    35   0    0   0 0     35        6          27        \n",
              "7140  0     0     0   1    0   0 0      1        6          27        \n",
              "7141  0     0     0  27    0   0 0     27        6          27        \n",
              "7142  0     0     3   0    0   0 0      3        6          27        \n",
              "7143  0     0     9   0    0   0 0      9        6          27        \n",
              "7144  0     0     1  83    1   0 0     85        6          27        \n",
              "7145  0     0     9   0    0   0 0      9        6          27        \n",
              "7146  0     0     0   0    0   0 1      1        6          27        \n",
              "7147  0     0     0   0    0   0 0      1        6          27        \n",
              "7148  0     0     6   0    0   0 0      6        6          27        \n",
              "7149  0     0     0  27    0   0 0     27        6          27        \n",
              "7150  0     0     0   1    0   0 0      1        6          27        \n",
              "7151 78   163  1900 237  261 183 2   2932        6          27        \n",
              "7152  0     0     0   4    0   0 0      4        6          27        \n",
              "7153  0     0    20   0    0   0 0     20        6          27        \n",
              "7154 12     3    45  24    1   0 1     86        6          27        \n",
              "7155  0     0     3  10    0   0 0     13        6          27        \n",
              "7156  6     0    70   0    1  11 0     88        6          27        \n",
              "7157  0     0     0   3    0   0 0      3        6          27        \n",
              "7158  0     0    91   1    0   0 0     92        6          27        \n",
              "7159  0     0     0   4    0   0 0      4        6          27        \n",
              "7160  0     0     0   4    0   0 0      4        6          27        \n",
              "7161  2     0     0   0    0   0 0      2        6          27        \n",
              "7162  0     0     0   0    2   0 0      2        6          27        "
            ]
          },
          "metadata": {}
        }
      ]
    },
    {
      "cell_type": "code",
      "source": [
        "summary(data)"
      ],
      "metadata": {
        "colab": {
          "base_uri": "https://localhost:8080/",
          "height": 503
        },
        "id": "zhV2_tZiogyy",
        "outputId": "92679d39-11ea-4efb-dc06-3e99c30390b2"
      },
      "execution_count": null,
      "outputs": [
        {
          "output_type": "display_data",
          "data": {
            "text/plain": [
              "   country               year      parent_company          hdpe         \n",
              " Length:7162        Min.   :2019   Length:7162        Min.   :   0.000  \n",
              " Class :character   1st Qu.:2019   Class :character   1st Qu.:   0.000  \n",
              " Mode  :character   Median :2020   Mode  :character   Median :   0.000  \n",
              "                    Mean   :2020                      Mean   :   3.488  \n",
              "                    3rd Qu.:2020                      3rd Qu.:   0.000  \n",
              "                    Max.   :2020                      Max.   :3728.000  \n",
              "      ldpe                o                 pet                 pp          \n",
              " Min.   :    0.00   Min.   :    0.00   Min.   :    0.00   Min.   :   0.000  \n",
              " 1st Qu.:    0.00   1st Qu.:    0.00   1st Qu.:    0.00   1st Qu.:   0.000  \n",
              " Median :    0.00   Median :    0.00   Median :    0.00   Median :   0.000  \n",
              " Mean   :   12.41   Mean   :   29.76   Mean   :   21.51   Mean   :   8.538  \n",
              " 3rd Qu.:    0.00   3rd Qu.:    2.00   3rd Qu.:    1.00   3rd Qu.:   0.000  \n",
              " Max.   :11700.00   Max.   :28055.00   Max.   :36226.00   Max.   :6046.000  \n",
              "       ps               pvc            grand_total         num_events    \n",
              " Min.   :   0.00   Min.   :  0.0000   Min.   :    0.00   Min.   :  1.00  \n",
              " 1st Qu.:   0.00   1st Qu.:  0.0000   1st Qu.:    1.00   1st Qu.:  4.00  \n",
              " Median :   0.00   Median :  0.0000   Median :    2.00   Median : 17.00  \n",
              " Mean   :   1.77   Mean   :  0.3083   Mean   :   78.28   Mean   : 23.16  \n",
              " 3rd Qu.:   0.00   3rd Qu.:  0.0000   3rd Qu.:    8.00   3rd Qu.: 32.00  \n",
              " Max.   :1365.00   Max.   :622.0000   Max.   :80570.00   Max.   :134.00  \n",
              "   volunteers  \n",
              " Min.   :   3  \n",
              " 1st Qu.: 127  \n",
              " Median : 400  \n",
              " Mean   :1415  \n",
              " 3rd Qu.:2099  \n",
              " Max.   :6850  "
            ]
          },
          "metadata": {}
        }
      ]
    },
    {
      "cell_type": "markdown",
      "source": [
        "## Hypothesis I:"
      ],
      "metadata": {
        "id": "lr0pahclomPt"
      }
    },
    {
      "cell_type": "markdown",
      "source": [
        "*Hypothesis:*\n",
        "\n",
        "Plastic Cleanup Efforts Increased in 2020 Compared to 2019\n",
        "\n",
        "*Null Hypothesis (H0):*\n",
        "\n",
        "There is no significant difference in the grand_total count of plastic cleanup between the years 2019 and 2020.\n",
        "\n",
        "*Alternative Hypothesis (H1):*\n",
        "\n",
        "There is a significant difference in the grand_total count of plastic cleanup between the years 2019 and 2020.\n",
        "\n",
        "*Test:*\n",
        "\n",
        "Paired t-test to compare the means of plastic cleanup counts between 2019 and 2020 using parameters such as grand_total and number of volunteers"
      ],
      "metadata": {
        "id": "cA05TV94orYd"
      }
    },
    {
      "cell_type": "code",
      "source": [
        "# Assuming 'data' is your dataset\n",
        "\n",
        "# Subset data for the year 2019\n",
        "total_2019 <- sum(subset(data, year == 2019)$grand_total)\n",
        "\n",
        "# Subset data for the year 2020\n",
        "total_2020 <- sum(subset(data, year == 2020)$grand_total)"
      ],
      "metadata": {
        "id": "Jadnz1mhojAN"
      },
      "execution_count": null,
      "outputs": []
    },
    {
      "cell_type": "code",
      "source": [
        "# Assuming 'data' is your dataset\n",
        "\n",
        "# Subset data for the year 2019\n",
        "data_2019 <- subset(data, year == 2019)\n",
        "\n",
        "# Subset data for the year 2020\n",
        "data_2020 <- subset(data, year == 2020)\n",
        "\n",
        "# Calculate the average number of volunteers per event for each year\n",
        "avg_volunteers_per_event_2019 <- mean(data_2019$volunteers)\n",
        "avg_volunteers_per_event_2020 <- mean(data_2020$volunteers)\n",
        "\n",
        "# Estimate the number of counting events for each year\n",
        "num_events_2019 <- data_2019$grand_total / avg_volunteers_per_event_2019\n",
        "num_events_2020 <- data_2020$grand_total / avg_volunteers_per_event_2020\n",
        "\n",
        "# Print the results\n",
        "cat(\"Estimated number of counting events for 2019:\", round(num_events_2019), \"\\n\")\n",
        "cat(\"Estimated number of counting events for 2020:\", round(num_events_2020), \"\\n\")"
      ],
      "metadata": {
        "colab": {
          "base_uri": "https://localhost:8080/"
        },
        "id": "PQPQfDGso0eh",
        "outputId": "36376cb1-2310-40bb-fc3b-5b0af937f5d1"
      },
      "execution_count": null,
      "outputs": [
        {
          "output_type": "stream",
          "name": "stdout",
          "text": [
            "Estimated number of counting events for 2019: 1 1 0 0 0 0 0 0 0 0 0 0 0 0 0 0 0 0 0 0 0 0 0 0 0 0 0 0 0 0 0 0 0 0 0 0 0 0 0 0 0 0 0 0 0 0 0 0 0 0 0 0 0 0 0 0 0 0 0 0 0 0 0 0 0 0 0 0 0 0 0 0 0 0 0 0 0 0 0 0 0 0 0 0 0 0 0 0 0 0 0 0 0 0 0 0 0 0 0 0 0 0 0 0 0 0 0 0 0 0 0 0 0 0 0 0 0 0 0 0 0 0 0 0 0 0 0 0 0 0 0 0 0 0 0 0 0 0 0 0 0 0 0 0 0 0 0 0 0 0 0 0 0 0 0 0 0 0 0 0 0 0 0 0 0 0 0 0 0 0 0 0 0 0 0 0 0 0 0 0 0 0 0 0 0 0 0 0 0 0 0 0 0 0 0 0 0 0 0 0 0 0 0 0 0 0 0 0 0 0 0 0 0 0 0 0 0 0 0 0 0 0 0 0 0 0 0 0 0 0 0 0 0 0 0 0 0 0 0 0 0 0 0 0 0 0 0 0 0 0 0 0 0 0 0 0 0 0 0 0 0 0 0 0 0 0 0 0 0 0 0 0 0 0 0 3 0 0 0 0 0 0 0 0 0 0 0 0 0 0 0 0 0 0 0 0 0 0 0 0 0 0 0 0 0 0 0 0 0 0 0 0 0 0 0 0 0 0 0 0 0 0 0 0 0 0 0 0 0 0 0 0 0 0 0 0 0 0 0 0 0 0 0 0 0 0 0 0 0 0 0 0 0 0 0 0 0 0 0 0 0 0 0 0 0 0 0 0 0 0 0 0 0 0 0 0 0 0 0 0 0 0 0 0 0 0 0 0 0 0 0 0 0 0 0 0 0 0 0 0 0 0 0 0 0 0 0 0 0 0 0 0 0 0 0 0 0 0 0 0 0 0 0 0 0 0 0 1 0 0 0 0 0 0 0 0 0 0 0 0 0 0 0 0 0 0 0 0 0 0 0 0 0 0 0 0 0 0 0 0 0 0 0 0 0 0 0 0 0 0 0 0 0 0 0 0 0 0 0 0 0 0 0 0 0 0 0 0 0 0 0 0 0 0 0 0 0 0 0 0 0 0 0 0 0 0 0 0 0 0 0 0 0 0 0 0 0 0 0 0 0 0 0 0 0 0 0 0 0 0 0 0 0 0 0 0 0 0 0 0 0 0 0 0 0 0 0 0 0 0 0 0 0 0 0 0 0 0 0 0 0 0 0 0 0 0 0 0 0 0 0 0 0 0 0 0 0 0 0 0 0 0 0 0 0 0 0 0 0 0 0 0 0 0 0 0 0 0 0 0 0 0 0 0 0 0 0 0 0 0 0 0 0 0 0 0 0 0 0 0 0 0 0 0 0 0 0 0 0 0 0 0 0 0 0 0 5 3 0 0 0 0 0 0 0 0 0 0 0 0 0 0 0 0 0 0 0 0 0 0 0 0 0 0 0 0 0 0 0 0 0 0 0 0 0 0 0 0 0 0 0 0 0 0 0 0 0 0 0 0 0 0 0 0 0 0 0 0 0 0 0 0 0 0 0 0 0 0 0 0 0 0 0 0 0 0 0 0 0 0 0 0 0 0 0 0 0 0 0 0 0 0 0 0 0 0 0 0 0 0 0 0 0 0 0 0 0 0 0 0 0 0 0 0 0 0 0 0 0 0 0 0 0 0 0 0 0 0 0 0 0 0 0 0 0 0 0 0 0 0 0 0 0 0 0 0 0 0 0 0 0 0 0 0 0 0 0 0 0 0 0 0 0 0 0 0 0 0 0 0 0 0 0 0 0 0 0 0 0 0 0 0 0 0 0 0 0 0 0 0 0 0 0 0 0 0 0 0 0 0 0 0 0 0 0 0 0 0 0 0 0 0 0 0 0 0 0 0 0 0 0 0 0 0 0 0 0 0 0 0 0 0 0 0 0 0 0 0 0 0 0 0 0 0 0 0 0 0 0 0 0 0 0 0 0 0 0 0 0 0 0 0 0 0 0 0 0 0 0 0 0 0 0 0 0 0 0 0 0 0 0 0 0 0 0 0 0 0 0 0 0 0 0 0 0 0 0 0 0 0 0 0 0 0 0 0 0 0 0 0 0 0 0 0 0 0 0 0 0 0 0 0 0 0 0 0 0 0 0 0 0 0 0 0 0 0 0 0 0 0 0 0 0 0 0 0 0 0 0 0 0 0 0 0 0 0 0 0 0 0 0 0 0 0 0 0 0 0 0 0 0 0 0 0 0 0 0 0 0 0 0 0 0 0 0 0 0 0 0 0 0 0 0 0 0 0 0 0 0 0 0 0 0 0 0 0 0 0 0 0 0 0 0 0 0 0 0 0 0 0 0 0 0 0 0 0 0 0 0 0 0 0 0 0 0 0 0 0 0 0 0 0 0 0 0 0 0 0 0 0 0 0 0 0 0 0 0 0 0 0 0 0 0 0 0 0 0 0 0 0 0 0 0 0 0 0 0 0 0 0 0 0 0 0 0 0 0 0 0 0 0 0 0 0 0 0 0 0 0 0 0 0 0 0 0 0 0 0 0 0 0 0 0 0 0 0 0 0 0 0 0 0 0 0 0 0 0 0 0 0 0 0 0 0 0 0 0 0 0 0 0 0 0 0 0 0 0 0 0 0 0 0 0 0 0 0 0 0 0 0 0 0 0 0 0 0 0 0 0 0 0 0 0 0 0 0 0 0 0 0 0 0 0 0 0 0 0 0 0 0 0 0 0 0 0 0 0 0 0 0 0 0 0 0 0 0 0 0 0 0 0 0 0 0 0 0 0 0 0 0 0 0 0 0 0 0 0 0 0 0 0 0 33 12 6 3 1 1 1 1 0 0 0 0 0 0 0 0 0 0 0 0 0 0 0 0 0 0 0 0 0 0 0 0 0 0 0 0 0 0 0 0 0 0 0 0 0 0 0 0 0 0 0 0 0 0 0 0 0 0 0 0 0 0 0 0 0 0 0 0 0 0 0 0 0 0 0 0 0 0 0 0 0 0 0 0 0 0 0 0 0 0 0 0 0 0 0 0 0 0 0 0 0 0 0 0 0 0 0 0 0 0 0 0 0 0 0 0 0 0 0 0 0 0 0 0 0 0 0 0 0 0 0 0 0 0 0 0 0 0 0 0 0 0 0 0 0 0 0 0 0 0 0 0 0 0 0 0 0 0 0 0 0 0 0 0 0 0 0 0 0 0 0 0 0 0 0 0 0 0 0 0 0 0 0 0 0 0 0 0 0 0 0 0 0 0 0 0 0 0 0 0 0 0 0 0 0 0 0 0 0 0 0 0 0 0 0 0 0 0 0 0 0 0 0 0 0 0 0 0 0 0 0 0 0 0 0 0 0 0 0 0 0 0 0 0 0 0 0 0 0 0 0 0 0 0 0 0 0 0 0 0 0 0 0 0 0 0 0 0 0 0 0 0 0 0 0 0 0 0 0 0 0 0 0 0 0 0 0 0 0 0 0 0 0 0 0 0 0 0 0 0 0 0 0 0 0 0 0 0 0 0 0 0 0 0 0 0 0 0 0 0 0 0 0 0 0 0 0 0 0 0 0 0 0 0 0 0 0 0 0 0 0 0 0 0 0 0 0 0 0 0 0 0 0 0 15 7 1 1 1 1 0 0 0 0 0 0 0 0 0 0 0 0 0 0 0 0 0 0 0 0 0 0 0 0 0 0 0 0 0 0 0 0 0 0 0 0 0 0 0 0 0 0 0 0 0 0 0 0 0 0 0 0 0 0 0 0 0 0 0 0 0 0 0 0 0 0 0 0 0 0 0 0 0 0 0 0 0 0 0 0 0 0 0 0 0 0 0 0 0 0 0 0 0 0 0 0 0 0 0 0 0 0 0 0 0 0 0 0 0 0 0 0 0 0 0 0 0 0 0 0 0 0 0 0 0 0 0 0 0 0 0 0 0 0 0 0 0 0 0 0 0 0 0 0 0 0 0 0 0 0 0 0 0 0 0 0 0 0 0 0 0 0 0 0 0 0 0 0 0 0 0 0 0 0 0 0 0 0 0 0 0 0 0 0 0 0 0 0 0 0 0 0 0 0 0 0 0 0 0 0 0 0 0 0 0 0 0 0 0 0 0 0 0 0 0 0 0 0 0 0 0 0 0 0 0 0 0 0 0 0 0 0 0 0 0 0 0 0 0 0 0 0 0 0 0 0 0 0 0 0 0 0 0 0 0 0 0 0 0 0 0 0 0 0 0 0 0 0 0 0 0 0 0 0 0 0 0 0 0 0 0 0 0 0 0 0 0 0 0 0 0 0 0 0 0 0 0 0 0 0 0 0 0 0 0 0 0 0 0 0 0 0 0 0 0 0 0 0 0 0 0 0 0 0 0 0 0 0 0 0 0 0 0 0 0 0 0 0 0 0 0 0 0 0 0 0 0 0 0 0 0 0 0 0 0 0 0 0 0 0 0 0 0 0 0 0 0 0 0 0 0 0 0 0 0 0 0 0 0 0 0 0 0 0 0 0 0 0 0 0 0 0 0 0 0 0 0 0 0 0 0 0 0 0 0 0 0 0 0 0 0 0 0 0 0 0 0 0 0 0 0 0 0 0 0 0 0 0 0 0 0 0 0 0 0 0 0 0 0 0 0 0 0 0 0 0 0 0 0 0 0 0 0 0 0 0 0 0 0 0 0 0 0 0 0 0 0 0 0 0 0 0 0 0 0 0 0 0 0 0 0 0 0 0 0 0 0 0 0 0 0 0 0 0 0 0 0 0 0 0 0 0 0 0 0 0 0 0 0 0 0 0 0 0 0 0 0 0 0 0 0 0 0 0 0 0 0 0 0 0 0 0 0 0 0 0 0 0 0 0 0 0 0 0 0 0 0 0 0 0 0 0 0 0 0 0 0 0 0 0 0 0 0 0 0 0 0 0 0 0 0 0 0 0 0 0 0 0 0 0 0 0 0 0 0 0 0 0 0 0 0 0 0 0 0 0 0 0 0 0 0 0 0 0 0 0 0 0 0 0 0 0 0 0 0 0 0 0 0 0 0 0 0 0 0 0 0 0 0 0 0 0 0 0 0 0 0 0 0 0 0 0 0 0 0 0 0 0 0 0 0 0 0 0 0 0 0 0 0 0 0 0 0 0 0 0 0 0 0 0 0 0 0 0 0 0 0 0 0 0 0 0 0 0 0 0 0 0 0 0 0 0 0 0 0 0 0 0 0 0 0 0 0 0 0 0 0 0 0 0 0 0 0 0 0 0 0 0 0 0 0 0 0 0 0 0 0 0 0 0 0 0 0 0 0 0 0 0 0 0 0 0 0 0 0 0 0 0 0 0 0 0 0 0 0 0 0 0 0 0 0 0 0 0 0 0 0 0 0 0 0 0 0 0 0 0 0 0 0 0 0 0 0 0 0 0 0 0 0 0 0 0 0 0 0 0 0 0 0 0 0 0 0 0 0 0 0 0 0 0 0 0 0 0 0 0 0 0 0 0 0 0 0 0 0 0 0 0 0 0 0 0 0 0 0 0 0 0 0 0 0 0 0 0 0 0 0 0 0 2 1 0 0 0 0 0 0 0 0 0 0 0 0 0 0 0 0 0 0 0 0 0 0 0 0 0 0 0 0 0 0 0 0 0 0 0 0 0 0 0 0 0 0 0 0 0 0 0 0 0 0 0 0 0 0 0 0 0 0 0 0 0 0 0 0 0 0 0 0 0 0 0 0 0 0 0 0 0 0 0 0 0 0 0 0 0 0 0 0 4 1 1 0 0 0 0 0 0 0 0 0 0 0 0 0 0 0 0 0 0 0 0 0 0 0 0 0 0 0 0 0 0 0 0 0 0 0 0 0 0 0 0 0 0 0 0 0 0 0 0 0 0 0 0 0 0 0 0 0 0 0 0 0 0 0 0 0 0 0 0 0 0 0 0 0 0 0 0 0 0 0 0 0 0 0 0 0 0 0 0 0 0 0 0 0 0 0 0 0 0 0 0 0 0 0 0 0 0 0 0 0 0 0 0 0 0 0 0 0 0 0 0 0 0 0 0 0 0 0 0 0 0 0 0 0 0 0 0 0 0 0 0 0 0 0 0 0 0 0 0 0 0 0 0 0 0 0 0 0 0 0 0 0 0 0 0 0 0 0 0 0 0 0 0 0 0 0 0 0 0 0 0 0 0 0 0 0 0 0 0 0 0 0 0 0 0 0 0 0 0 0 0 0 0 0 0 0 0 0 0 0 0 0 0 0 0 0 0 0 0 0 0 0 0 0 0 0 0 0 0 0 0 0 0 0 0 0 0 0 0 0 0 0 0 0 0 0 0 0 0 0 0 0 0 0 0 0 0 0 0 0 0 0 0 0 0 0 0 0 0 0 0 0 0 0 0 0 0 0 0 0 0 0 0 0 0 0 0 0 0 0 0 0 0 0 0 0 0 0 0 0 0 0 0 0 0 0 0 0 0 0 0 0 0 0 0 0 0 0 0 0 0 0 0 0 0 0 0 0 0 0 0 0 0 0 0 0 0 0 0 0 0 0 0 0 0 0 0 0 0 0 0 0 0 0 0 0 0 0 0 0 0 0 0 0 0 0 0 0 0 0 0 0 0 0 0 0 0 0 0 0 0 0 0 0 0 0 0 0 0 0 0 0 0 0 0 0 0 0 0 0 0 0 0 0 0 0 0 0 0 0 0 0 0 0 0 0 0 0 0 0 0 0 0 0 0 0 0 0 0 0 0 0 0 0 0 0 0 0 0 0 0 0 0 0 0 0 0 0 0 0 0 0 0 0 0 0 0 0 0 0 0 0 0 0 0 0 0 0 0 0 0 0 0 0 0 0 0 0 0 0 0 0 0 0 0 0 0 0 0 0 0 0 0 0 0 0 0 0 0 0 0 0 0 0 0 0 0 0 0 0 0 0 0 0 0 0 0 0 0 0 0 0 0 0 0 0 0 0 0 0 0 0 0 0 0 0 0 0 0 0 0 0 0 0 0 0 0 0 0 0 0 0 0 0 0 0 0 0 0 0 0 0 0 0 0 0 0 0 0 0 0 0 0 0 0 0 0 0 0 0 0 0 0 0 0 0 0 0 0 0 0 0 0 0 0 0 0 0 0 0 0 0 0 0 0 0 0 0 0 0 0 0 0 0 0 0 0 0 0 0 0 0 0 0 0 0 0 0 0 0 0 0 0 0 0 0 0 0 0 0 0 0 0 0 0 0 0 0 0 0 0 0 0 0 0 0 0 0 0 0 0 0 0 0 0 0 0 0 0 0 0 0 0 0 0 0 \n",
            "Estimated number of counting events for 2020: 0 0 0 0 0 0 0 0 0 0 0 0 0 0 0 0 0 0 0 0 0 0 0 0 0 0 0 0 0 0 0 0 0 0 0 0 0 0 0 0 0 0 0 0 0 0 0 0 0 0 0 0 0 0 0 0 0 0 0 0 0 0 0 0 0 0 0 0 0 0 0 0 0 0 0 0 0 0 0 0 0 0 0 0 0 0 0 0 0 0 0 0 0 0 0 0 0 0 0 0 0 0 0 0 0 0 0 0 0 0 0 0 0 0 0 0 0 0 0 0 0 0 0 0 0 0 0 0 0 0 0 0 0 0 0 0 0 0 0 0 0 0 0 0 0 0 0 0 0 0 0 0 0 0 0 0 0 0 0 0 0 0 0 0 0 0 0 0 0 0 0 0 0 0 0 0 0 0 0 0 0 0 0 0 0 0 0 0 0 0 0 0 0 0 0 0 0 0 0 0 0 0 0 0 0 0 0 0 0 0 0 1 0 0 0 0 0 0 0 0 0 0 0 0 0 0 0 0 0 0 0 0 0 0 0 0 0 0 0 0 0 0 0 0 0 0 0 0 0 0 0 0 0 0 0 0 0 0 0 0 0 0 0 0 0 0 0 0 0 0 0 0 0 0 0 0 0 0 0 0 0 0 0 0 0 0 0 0 0 0 0 0 0 0 0 0 0 0 0 0 0 0 0 0 0 0 0 0 0 0 0 0 0 0 0 0 0 0 0 0 0 0 0 0 0 0 0 0 0 0 0 0 0 0 0 0 0 0 0 0 0 0 0 0 0 0 0 0 0 0 0 0 0 0 0 0 0 0 0 0 0 0 0 0 0 0 0 0 0 0 0 0 0 0 0 0 0 0 0 0 0 0 0 0 0 0 0 0 0 0 0 0 0 0 0 0 0 0 0 0 0 0 0 0 0 0 0 0 0 0 0 0 0 0 0 0 0 0 0 0 0 0 0 0 0 0 0 0 0 0 0 0 0 0 0 0 0 0 0 0 0 0 0 0 0 0 0 0 0 0 0 0 0 0 0 1 0 0 0 0 0 0 0 0 0 0 0 0 0 0 0 0 0 0 0 0 0 0 0 0 0 0 2 0 1 0 0 0 0 0 0 0 0 0 0 0 0 0 0 0 0 0 0 0 0 0 0 0 0 0 0 0 0 0 0 0 0 0 0 0 0 0 0 0 0 0 0 0 0 0 0 0 0 0 0 0 0 0 0 0 0 0 0 0 0 0 0 0 0 0 0 0 0 0 0 0 0 0 0 0 0 0 0 0 0 0 0 0 0 0 0 0 0 0 0 0 0 0 0 0 0 0 0 0 0 0 0 0 0 0 0 0 0 0 0 0 0 0 0 0 0 0 0 0 0 0 0 0 0 0 0 0 0 0 0 0 0 0 0 0 0 0 0 0 0 0 0 0 0 0 0 0 0 0 0 0 0 0 0 0 0 0 0 0 0 0 0 0 0 0 0 0 0 0 0 0 0 0 0 0 0 0 0 0 0 0 0 0 0 0 0 0 0 0 0 0 0 0 0 0 0 0 0 0 0 0 0 0 0 0 0 0 0 0 0 0 0 0 0 0 0 0 0 0 0 0 0 0 0 0 0 0 0 0 0 0 0 0 0 0 0 0 0 0 0 0 0 0 0 0 0 0 0 0 0 0 0 0 0 0 0 0 0 0 0 0 0 0 0 0 0 0 0 0 0 0 0 0 0 0 0 0 0 0 0 0 0 0 0 0 0 0 0 0 0 0 0 0 0 0 0 0 0 0 0 0 0 0 0 0 0 0 0 0 0 0 0 0 0 0 0 0 0 0 0 0 0 0 0 0 0 0 0 0 0 0 0 0 0 0 0 0 0 0 0 0 0 0 0 0 0 0 0 0 0 0 0 0 0 0 0 0 0 0 0 0 0 0 0 0 0 0 0 0 0 0 0 0 0 0 0 0 0 0 0 0 0 0 0 0 0 0 0 0 0 0 0 0 0 0 1 0 0 0 0 6 0 0 0 0 0 0 0 0 0 0 0 0 0 0 0 0 0 0 0 0 0 0 0 0 0 0 0 0 0 0 0 0 0 0 0 0 0 0 0 0 0 0 0 0 0 0 0 0 0 0 0 0 0 0 0 0 0 0 0 0 0 0 0 0 0 0 0 0 0 0 0 0 0 0 0 0 0 0 0 0 0 0 0 0 0 0 0 0 0 0 0 0 0 0 0 0 0 0 0 0 0 0 0 0 0 0 0 0 0 0 0 0 0 0 0 0 0 0 0 0 0 0 0 0 0 0 0 0 0 0 0 0 0 0 0 0 0 0 0 0 0 0 0 0 0 0 0 0 0 0 0 0 0 0 0 0 0 0 0 0 0 0 0 0 0 0 0 0 0 0 0 0 0 0 0 8 0 0 0 0 0 0 0 0 0 0 0 0 0 0 0 0 0 0 0 0 0 1 0 0 0 0 0 0 0 0 0 0 0 0 0 0 0 0 0 0 0 0 0 0 0 0 0 0 0 0 0 0 0 0 0 0 0 0 0 5 0 0 0 0 0 0 0 0 0 0 0 0 0 0 0 0 0 0 0 9 0 0 4 0 0 0 0 0 0 0 1 0 0 0 0 0 0 0 0 0 0 4 2 0 0 0 0 0 0 0 0 0 0 0 0 0 0 0 0 0 0 0 0 0 0 0 0 0 0 0 0 0 0 0 0 0 0 1 0 0 0 0 0 0 0 0 0 0 0 0 0 0 0 0 0 0 0 0 0 0 0 0 0 0 0 0 0 0 0 0 2 0 0 0 0 0 0 0 0 0 0 0 0 0 0 0 0 0 0 0 0 0 0 0 0 0 0 0 0 0 0 0 0 0 0 0 0 0 0 0 0 0 0 0 0 0 0 0 0 0 0 0 0 0 0 0 0 0 0 0 1 0 0 0 0 1 0 0 0 0 0 0 0 0 0 0 0 0 0 0 1 0 0 0 0 0 0 0 0 0 0 0 0 0 0 0 0 0 0 0 0 0 0 0 0 0 0 0 0 0 0 0 0 0 0 0 0 0 0 0 0 0 0 0 0 0 0 0 0 0 0 0 0 0 0 0 0 0 0 0 0 0 0 0 0 0 0 0 0 0 1 0 0 0 0 0 0 0 0 0 0 0 0 0 0 0 0 0 0 0 0 0 0 0 0 0 0 0 0 0 0 0 0 0 0 0 0 0 0 0 0 0 0 0 0 0 0 0 0 0 0 0 0 0 0 0 0 0 0 0 0 0 0 0 0 0 0 0 0 0 0 0 0 0 0 0 0 0 0 0 0 0 0 0 0 0 0 0 0 0 0 0 8 0 0 0 0 0 0 0 0 0 0 0 0 2 0 0 0 0 0 2 0 0 0 0 0 0 0 0 0 0 0 0 0 0 0 0 0 0 0 0 0 0 0 0 0 0 0 0 0 0 0 0 0 0 0 0 0 0 0 0 0 0 0 0 0 0 0 0 0 0 0 0 0 0 0 0 0 0 0 0 0 0 0 0 0 0 0 0 0 0 0 0 2 0 0 0 0 0 0 0 0 0 0 0 0 0 0 0 0 0 0 0 0 0 0 0 0 0 0 0 0 0 0 0 1 0 0 0 0 0 0 0 0 0 0 0 0 0 0 0 0 0 0 0 0 0 0 0 0 0 0 0 0 0 0 0 0 0 0 0 0 0 1 0 0 0 0 0 0 0 0 0 0 0 0 0 0 0 0 0 0 0 0 0 0 0 0 0 0 0 0 0 0 0 0 0 0 0 0 0 0 0 0 0 0 0 0 0 0 0 0 0 0 0 0 1 0 0 0 0 0 0 0 0 0 0 0 0 0 0 0 0 0 0 0 0 0 0 0 0 0 0 0 0 0 0 0 0 0 0 0 0 0 0 0 0 0 0 0 0 0 0 0 0 0 0 0 0 0 0 0 0 0 0 0 0 0 0 0 0 0 0 0 0 1 0 0 0 0 0 0 0 0 0 0 0 0 0 0 0 0 0 0 0 0 0 0 0 0 0 0 0 0 0 0 0 0 0 0 0 0 0 0 0 0 0 7 0 0 0 0 0 0 0 1 0 0 0 0 0 0 0 0 0 0 0 0 0 0 0 0 0 0 0 0 0 0 0 0 0 0 0 0 0 0 0 0 0 0 0 0 0 0 0 0 0 0 0 0 0 0 0 0 0 0 0 0 0 0 1 0 0 1 0 0 0 0 0 0 0 0 0 0 0 0 0 0 0 0 6 0 1 0 0 0 1 0 0 0 0 0 0 0 0 0 0 0 0 1 0 0 0 0 1 0 0 0 0 0 0 0 0 0 0 0 0 0 0 0 0 0 0 0 0 0 0 0 0 0 0 0 0 0 0 0 0 0 0 0 0 0 0 0 0 0 0 0 0 0 0 0 0 0 0 0 0 0 0 0 0 0 0 0 0 0 0 1 0 0 0 0 0 0 0 0 0 0 0 0 0 0 0 0 0 0 0 0 0 0 0 1 0 0 0 0 0 0 0 0 0 0 0 0 0 0 0 0 0 0 0 0 0 0 0 0 0 0 0 0 0 0 0 0 0 0 0 0 0 0 0 0 0 0 0 0 0 0 0 0 0 0 0 0 0 0 0 0 0 0 0 0 0 0 0 0 0 0 0 0 0 0 0 0 0 0 0 0 0 0 0 0 0 0 0 0 0 0 0 0 0 0 0 0 0 0 0 0 0 0 0 0 0 0 0 0 0 0 0 0 0 0 0 0 0 0 0 0 0 0 0 0 0 0 0 0 0 0 0 0 0 0 0 0 0 0 0 0 0 0 1 0 0 0 0 0 0 0 0 0 0 0 0 0 0 0 0 0 0 0 0 0 0 0 0 0 0 0 0 0 0 0 0 0 0 1 0 0 0 0 0 0 0 3 0 0 0 0 0 0 0 0 0 0 0 0 0 0 0 0 0 0 0 0 0 0 0 0 0 0 0 0 0 0 0 0 0 0 0 0 0 0 0 0 0 0 0 0 0 0 0 0 0 0 0 0 0 0 0 0 0 0 0 0 0 0 0 0 0 0 0 0 0 0 0 0 0 0 0 0 0 0 2 0 0 0 0 0 0 0 0 0 0 0 0 0 0 0 1 0 0 0 0 0 0 0 0 0 0 0 1 0 0 0 0 0 0 0 0 0 0 0 0 0 0 0 0 0 0 0 0 0 0 0 0 0 0 0 1 0 0 0 0 0 0 0 0 0 0 0 0 0 0 0 0 0 0 0 0 0 0 0 0 1 0 0 0 0 1 0 0 0 0 0 0 0 0 0 0 0 0 0 0 0 0 1 0 0 0 0 0 0 0 0 0 0 0 0 0 0 0 0 0 0 0 0 0 0 0 0 0 0 0 0 0 0 0 0 0 0 1 0 0 0 0 0 0 0 1 0 0 0 0 0 0 0 0 0 0 0 0 0 0 0 0 0 0 0 0 0 0 0 2 0 0 0 0 0 0 0 0 0 0 0 1 0 2 0 0 0 0 0 0 0 0 0 0 0 0 0 0 0 0 0 0 0 0 0 0 1 0 0 0 0 0 0 0 0 0 0 0 0 0 0 0 0 0 0 0 0 0 0 0 0 0 0 0 0 0 0 0 0 0 0 0 0 0 1 0 0 0 0 0 0 0 0 0 4 0 0 0 0 0 0 0 0 0 0 1 0 0 0 0 0 0 0 0 0 0 0 0 0 0 0 0 0 3 0 1 0 0 0 0 0 0 0 0 0 0 0 0 0 0 0 0 0 0 0 0 0 1 0 0 0 0 0 0 0 0 8 1 0 0 0 0 0 0 0 0 0 1 0 0 0 0 0 0 0 21 0 0 0 0 0 0 0 0 0 0 0 0 0 0 0 0 0 0 0 0 0 1 0 0 0 0 0 0 0 0 0 0 0 0 0 0 0 0 0 0 0 0 0 0 0 0 0 0 0 0 0 0 0 0 0 0 0 0 0 0 0 0 0 0 0 0 1 10 0 0 0 0 0 0 0 0 0 0 0 0 0 0 0 0 0 0 0 0 0 0 0 0 1 0 0 0 0 0 0 0 0 0 0 0 0 0 2 0 0 0 0 0 0 0 0 7 0 3 1 0 0 0 11 0 0 2 0 0 1 0 0 0 0 0 0 0 0 0 5 0 0 0 1 0 0 0 0 0 0 0 0 0 0 1 0 1 0 0 0 17 5 12 1 0 0 1 0 0 0 0 0 0 0 0 0 0 0 0 0 0 0 0 0 0 0 0 0 0 0 0 0 0 0 0 0 0 14 0 0 0 0 0 0 0 0 0 0 0 0 0 0 0 0 0 0 0 0 0 0 0 0 0 0 0 0 0 0 0 0 0 0 0 0 0 0 0 0 0 0 0 0 0 0 0 0 0 0 0 0 0 0 0 0 0 0 0 0 0 0 0 0 0 0 0 0 0 0 0 0 0 0 0 0 0 0 0 0 0 0 0 0 1 0 0 0 0 0 0 0 0 0 0 0 0 0 0 0 0 0 0 0 0 1 58 0 0 0 0 0 0 0 0 0 0 0 0 0 0 0 0 0 0 0 0 0 0 0 0 0 0 0 0 0 0 0 0 0 0 0 0 0 0 0 0 0 0 0 0 0 0 0 0 0 0 0 0 0 0 0 0 0 0 0 0 0 0 0 0 0 0 0 0 0 0 0 0 0 0 0 0 0 0 0 0 0 0 0 0 0 0 0 0 0 0 0 0 0 0 0 0 1 0 0 0 0 0 0 0 0 0 1 0 0 0 1 1 0 0 0 0 0 0 0 0 0 0 0 0 0 0 0 0 0 0 0 0 0 0 0 0 0 0 0 0 0 0 0 0 0 0 0 0 0 0 0 0 0 0 0 0 0 0 0 0 0 0 0 0 0 0 0 1 1 0 0 0 0 2 0 12 0 0 0 0 0 0 0 2 0 0 0 0 0 0 0 0 0 0 0 0 0 0 0 0 0 0 0 0 1 0 0 0 0 0 0 0 0 0 0 0 0 0 0 0 0 0 0 0 0 0 0 0 0 0 0 0 0 0 0 0 0 0 0 0 0 0 0 0 0 0 0 0 0 0 0 0 0 0 0 0 0 0 0 0 0 0 0 0 0 0 0 0 0 0 0 0 0 0 0 0 0 0 0 0 0 0 0 0 0 0 0 0 0 0 0 0 0 0 0 0 0 0 0 0 0 0 0 0 0 0 0 0 0 0 0 0 0 0 0 0 0 0 0 0 0 0 0 0 0 0 0 0 0 0 0 0 0 0 0 0 0 0 0 0 0 0 0 0 0 0 0 0 0 0 0 0 1 0 0 0 0 0 0 0 0 0 0 0 0 0 0 0 1 0 0 0 0 0 0 0 0 0 0 0 0 0 0 0 0 0 0 0 0 0 0 0 1 0 0 0 0 0 0 0 0 0 0 0 0 0 6 0 0 0 0 0 0 0 0 0 0 0 0 0 0 0 0 0 0 0 0 0 0 0 0 0 0 0 0 0 0 0 0 0 0 0 0 0 0 0 0 0 0 0 0 0 0 0 0 0 0 0 0 0 0 0 0 0 0 0 0 0 0 0 0 0 0 0 0 0 0 0 0 0 0 0 0 0 0 0 0 0 0 0 0 0 0 0 0 0 0 0 0 0 0 0 0 0 0 0 0 0 0 0 0 0 5 0 0 0 0 0 0 0 0 0 0 0 0 0 0 0 0 0 0 0 0 0 0 0 0 0 0 0 0 0 0 0 0 0 0 0 0 0 0 0 0 0 0 0 0 0 0 0 0 0 0 0 0 0 0 0 0 0 0 0 0 0 0 0 0 0 0 0 0 0 0 0 0 0 0 0 0 0 0 0 0 0 0 0 0 0 0 0 0 0 0 0 0 0 0 0 0 0 0 0 0 0 0 0 0 0 0 0 0 0 0 0 0 0 0 0 0 0 0 0 0 0 0 0 0 0 0 0 0 0 0 0 0 0 0 0 0 0 0 0 0 0 0 0 0 0 0 0 0 0 0 0 0 0 0 0 0 0 0 0 0 0 0 0 0 0 0 0 0 0 0 0 0 0 0 0 0 0 0 0 0 0 0 0 0 0 0 0 0 0 0 0 0 0 0 0 0 0 0 0 0 0 0 0 0 0 0 0 0 0 0 0 0 0 0 0 0 0 0 0 0 0 0 0 0 0 0 0 0 0 0 0 0 0 0 0 0 0 0 0 0 0 0 0 0 0 0 0 0 0 0 0 0 0 0 0 0 0 0 0 0 0 0 0 0 1 0 0 0 0 0 0 0 0 0 0 0 0 0 0 0 0 0 0 0 0 0 0 0 0 0 0 0 0 0 0 0 0 0 0 0 0 0 0 0 0 0 0 0 0 0 0 0 0 0 0 0 0 0 0 0 0 0 0 0 0 0 0 0 0 0 0 0 0 0 0 0 0 0 1 0 0 0 0 0 0 0 0 0 0 0 0 10 0 0 0 0 0 0 0 0 0 0 0 0 0 0 0 0 0 0 0 0 0 0 0 0 0 0 0 0 0 0 0 0 0 0 0 0 0 0 0 0 0 0 0 0 0 0 0 0 0 0 0 0 0 0 0 0 0 0 0 0 0 0 0 0 0 0 0 0 0 0 0 0 0 0 0 0 0 0 0 0 0 0 0 0 0 0 0 0 0 0 0 0 0 0 0 0 0 0 0 0 0 0 0 0 0 1 0 0 0 0 0 0 0 0 0 0 0 0 0 0 0 0 0 0 0 0 0 0 0 0 0 0 0 0 0 0 0 0 0 0 5 0 0 0 0 0 0 0 0 0 0 0 \n"
          ]
        }
      ]
    },
    {
      "cell_type": "code",
      "source": [
        "# Assuming 'data' is your dataset\n",
        "\n",
        "# Simulate some hypothetical data points based on the total count and number of counting events\n",
        "# You should replace this with the actual data points if available\n",
        "counts_2019 <- rep(total_2019 / num_events_2019, num_events_2019)\n",
        "counts_2020 <- rep(total_2020 / num_events_2020, num_events_2020)\n",
        "\n",
        "# Perform an independent samples t-test\n",
        "t_test_result <- t.test(counts_2019, counts_2020)\n",
        "\n",
        "# Print the t-test result\n",
        "print(t_test_result)\n",
        "\n",
        "# Access the p-value from the t-test result\n",
        "p_value <- t_test_result$p.value\n",
        "\n",
        "# Compare with significance level (e.g., 0.05)\n",
        "if (p_value < 0.05) {\n",
        "  cat(\"Reject the null hypothesis: There is a significant difference.\\n\")\n",
        "} else {\n",
        "  cat(\"Do not reject the null hypothesis: No significant difference.\\n\")\n",
        "}\n",
        "\n",
        "# Access the confidence interval from the t-test result\n",
        "conf_interval <- t_test_result$conf.int\n",
        "\n",
        "# Check if the confidence interval includes zero\n",
        "if (conf_interval[1] > 0 || conf_interval[2] < 0) {\n",
        "  cat(\"Reject the null hypothesis: There is a significant difference.\\n\")\n",
        "} else {\n",
        "  cat(\"Do not reject the null hypothesis: No significant difference.\\n\")\n",
        "}"
      ],
      "metadata": {
        "colab": {
          "base_uri": "https://localhost:8080/"
        },
        "id": "WC4E45YRo2Lz",
        "outputId": "5d655eea-8169-4d81-fb3c-dcf212b04514"
      },
      "execution_count": null,
      "outputs": [
        {
          "output_type": "stream",
          "name": "stdout",
          "text": [
            "\n",
            "\tWelch Two Sample t-test\n",
            "\n",
            "data:  counts_2019 and counts_2020\n",
            "t = 0.45387, df = 136.52, p-value = 0.6506\n",
            "alternative hypothesis: true difference in means is not equal to 0\n",
            "95 percent confidence interval:\n",
            " -9741.034 15544.552\n",
            "sample estimates:\n",
            "mean of x mean of y \n",
            " 43330.85  40429.09 \n",
            "\n",
            "Do not reject the null hypothesis: No significant difference.\n",
            "Do not reject the null hypothesis: No significant difference.\n"
          ]
        }
      ]
    },
    {
      "cell_type": "markdown",
      "source": [
        "## Hypothesis II:"
      ],
      "metadata": {
        "id": "MYshjxa0pUGw"
      }
    },
    {
      "cell_type": "markdown",
      "source": [
        "**HYPOTHESIS**: The hdpe cleanup in the country 'India' in 2019 has increased in the year 2020\n",
        "\n",
        "**Null Hypothesis (H0)**: There is no significant difference in the hdpe cleanup between the years 2019 and 2020.\n",
        "\n",
        "**Alternative Hypothesis (H1)**: There is a significant increase in the hdpe cleanup between the years 2019 and 2020, that is, there is a significant decrease in hdpe generation."
      ],
      "metadata": {
        "id": "B6ZLvoLzpZma"
      }
    },
    {
      "cell_type": "code",
      "source": [
        "# Step 1: Subset the Data\n",
        "hdpe_2019 <- subset(data, country == 'India' & year == 2019)$hdpe\n",
        "hdpe_2020 <- subset(data, country == 'India' & year == 2020)$hdpe\n",
        "\n",
        "# Step 2: Calculate Relevant Statistics\n",
        "mean_2019 <- mean(hdpe_2019)\n",
        "sd_2019 <- sd(hdpe_2019)\n",
        "\n",
        "mean_2020 <- mean(hdpe_2020)\n",
        "sd_2020 <- sd(hdpe_2020)\n",
        "\n",
        "# Calculate the standard error of the difference in means\n",
        "se_diff <- sqrt((sd_2019^2 / length(hdpe_2019)) + (sd_2020^2 / length(hdpe_2020)))\n",
        "\n",
        "# Calculate the z-score\n",
        "z_score <- (mean_2019 - mean_2020) / se_diff\n",
        "\n",
        "# Assuming a two-tailed test, you can find the p-value\n",
        "p_value <- 2 * pnorm(-abs(z_score))\n",
        "\n",
        "# Step 4: Determine Significance\n",
        "alpha <- 0.05\n",
        "critical_value <- qnorm(1 - alpha/2)\n",
        "\n",
        "# Compare the absolute value of z to the critical value\n",
        "if (abs(z_score) > critical_value) {\n",
        "  print(\"Reject Null Hypothesis: There is a significant increase in hdpe cleanup.\")\n",
        "} else {\n",
        "  print(\"Fail to reject Null Hypothesis: There is no significant difference in hdpe cleanup.\")\n",
        "}\n",
        "\n",
        "# Print the z-score and p-value\n",
        "cat(\"Z-Score:\", z_score, \"\\n\")\n",
        "cat(\"P-Value:\", p_value, \"\\n\")"
      ],
      "metadata": {
        "colab": {
          "base_uri": "https://localhost:8080/"
        },
        "id": "RJdBdvLDo6Pw",
        "outputId": "87bcf658-0f4a-41a2-cadc-06b23f9a8c70"
      },
      "execution_count": null,
      "outputs": [
        {
          "output_type": "stream",
          "name": "stdout",
          "text": [
            "[1] \"Reject Null Hypothesis: There is a significant increase in hdpe cleanup.\"\n",
            "Z-Score: -3.38714 \n",
            "P-Value: 0.0007062529 \n"
          ]
        }
      ]
    },
    {
      "cell_type": "markdown",
      "source": [
        "## Hypothesis III:"
      ],
      "metadata": {
        "id": "84oVaYRJpxFE"
      }
    },
    {
      "cell_type": "markdown",
      "source": [
        "**HYPOTHESIS**: The total plastic production for Phillippines decreased from 2019 to 2020 because the plastic contributing the most to the plastic production in Philippines in 2019, decreased In 2020.\n",
        "\n",
        "**Null Hypothesis (H0)**: There is no significant difference in the total plastic production in the Phillippines between the years 2019 and 2020.\n",
        "\n",
        "**Alternative Hypothesis (H1)**: There is a significant decrease in the total plastic production in the Phillippines between the years 2019 and 2020."
      ],
      "metadata": {
        "id": "axcW9RIVpzut"
      }
    },
    {
      "cell_type": "code",
      "source": [
        "# Assuming 'data' is your dataset\n",
        "\n",
        "# Subset data for the Philippines in 2019\n",
        "data_philippines_2019 <- subset(data, country == \"Philippines\" & year == 2019)\n",
        "\n",
        "# Subset data for the Philippines in 2020\n",
        "data_philippines_2020 <- subset(data, country == \"Philippines\" & year == 2020)"
      ],
      "metadata": {
        "id": "mj_cU_zwpi3u"
      },
      "execution_count": null,
      "outputs": []
    },
    {
      "cell_type": "code",
      "source": [
        "data_philippines_2019"
      ],
      "metadata": {
        "colab": {
          "base_uri": "https://localhost:8080/",
          "height": 1000
        },
        "id": "34kntRtXp3_9",
        "outputId": "4928be52-85ad-40e7-e5d5-cba6267aa664"
      },
      "execution_count": null,
      "outputs": [
        {
          "output_type": "display_data",
          "data": {
            "text/html": [
              "<table class=\"dataframe\">\n",
              "<caption>A data.frame: 711 × 13</caption>\n",
              "<thead>\n",
              "\t<tr><th></th><th scope=col>country</th><th scope=col>year</th><th scope=col>parent_company</th><th scope=col>hdpe</th><th scope=col>ldpe</th><th scope=col>o</th><th scope=col>pet</th><th scope=col>pp</th><th scope=col>ps</th><th scope=col>pvc</th><th scope=col>grand_total</th><th scope=col>num_events</th><th scope=col>volunteers</th></tr>\n",
              "\t<tr><th></th><th scope=col>&lt;chr&gt;</th><th scope=col>&lt;int&gt;</th><th scope=col>&lt;chr&gt;</th><th scope=col>&lt;dbl&gt;</th><th scope=col>&lt;dbl&gt;</th><th scope=col>&lt;dbl&gt;</th><th scope=col>&lt;dbl&gt;</th><th scope=col>&lt;dbl&gt;</th><th scope=col>&lt;dbl&gt;</th><th scope=col>&lt;dbl&gt;</th><th scope=col>&lt;dbl&gt;</th><th scope=col>&lt;int&gt;</th><th scope=col>&lt;dbl&gt;</th></tr>\n",
              "</thead>\n",
              "<tbody>\n",
              "\t<tr><th scope=row>1627</th><td>Philippines</td><td>2019</td><td>Grand Total                              </td><td>1439</td><td>8671</td><td>19841</td><td>4906</td><td>1305</td><td>766</td><td>88</td><td>37016</td><td>20</td><td>3751</td></tr>\n",
              "\t<tr><th scope=row>1628</th><td>Philippines</td><td>2019</td><td>Unbranded                                </td><td> 679</td><td>6358</td><td> 8513</td><td>1132</td><td> 229</td><td>523</td><td>68</td><td>17502</td><td>20</td><td>3751</td></tr>\n",
              "\t<tr><th scope=row>1629</th><td>Philippines</td><td>2019</td><td>The Coca-Cola Company                    </td><td> 710</td><td>  34</td><td>  130</td><td>1793</td><td>  94</td><td> 43</td><td> 0</td><td> 2804</td><td>20</td><td>3751</td></tr>\n",
              "\t<tr><th scope=row>1630</th><td>Philippines</td><td>2019</td><td>Nestlé                                   </td><td>   0</td><td>  80</td><td> 1431</td><td> 156</td><td>   5</td><td> 83</td><td> 0</td><td> 1755</td><td>20</td><td>3751</td></tr>\n",
              "\t<tr><th scope=row>1631</th><td>Philippines</td><td>2019</td><td>Universal Robina Corporation             </td><td>   0</td><td> 134</td><td> 1072</td><td> 350</td><td>  38</td><td> 13</td><td> 0</td><td> 1607</td><td>20</td><td>3751</td></tr>\n",
              "\t<tr><th scope=row>1632</th><td>Philippines</td><td>2019</td><td>Unilever                                 </td><td>   2</td><td> 753</td><td>  478</td><td>  49</td><td>  16</td><td>  1</td><td> 0</td><td> 1299</td><td>20</td><td>3751</td></tr>\n",
              "\t<tr><th scope=row>1633</th><td>Philippines</td><td>2019</td><td>JBC Food Corporation                     </td><td>   0</td><td>  21</td><td>  589</td><td>   0</td><td>  57</td><td>  5</td><td> 0</td><td>  672</td><td>20</td><td>3751</td></tr>\n",
              "\t<tr><th scope=row>1634</th><td>Philippines</td><td>2019</td><td>Philippine Spring Water Resources, Inc.  </td><td>   0</td><td>   0</td><td>  144</td><td> 487</td><td>   0</td><td>  0</td><td> 0</td><td>  631</td><td>20</td><td>3751</td></tr>\n",
              "\t<tr><th scope=row>1635</th><td>Philippines</td><td>2019</td><td>Liwayway Holdings Company Limited        </td><td>   0</td><td> 121</td><td>  433</td><td>  49</td><td>   0</td><td>  0</td><td> 0</td><td>  603</td><td>20</td><td>3751</td></tr>\n",
              "\t<tr><th scope=row>1636</th><td>Philippines</td><td>2019</td><td>San Miguel Corporation                   </td><td>   0</td><td>   1</td><td>   24</td><td>   3</td><td> 568</td><td>  0</td><td> 0</td><td>  596</td><td>20</td><td>3751</td></tr>\n",
              "\t<tr><th scope=row>1637</th><td>Philippines</td><td>2019</td><td>RBC                                      </td><td>   6</td><td>   4</td><td>  329</td><td> 167</td><td>   0</td><td> 11</td><td> 0</td><td>  517</td><td>20</td><td>3751</td></tr>\n",
              "\t<tr><th scope=row>1638</th><td>Philippines</td><td>2019</td><td>PT Mayora Indah Tbk                      </td><td>   0</td><td>  10</td><td>  457</td><td>  23</td><td>  27</td><td>  0</td><td> 0</td><td>  517</td><td>20</td><td>3751</td></tr>\n",
              "\t<tr><th scope=row>1639</th><td>Philippines</td><td>2019</td><td>Monde Nissin Corporation                 </td><td>   0</td><td>  94</td><td>  269</td><td>  97</td><td>   5</td><td> 30</td><td> 0</td><td>  495</td><td>20</td><td>3751</td></tr>\n",
              "\t<tr><th scope=row>1640</th><td>Philippines</td><td>2019</td><td><span style=white-space:pre-wrap>P&amp;G                                      </span></td><td><span style=white-space:pre-wrap>   2</span></td><td> 105</td><td><span style=white-space:pre-wrap>  296</span></td><td><span style=white-space:pre-wrap>  39</span></td><td><span style=white-space:pre-wrap>  27</span></td><td><span style=white-space:pre-wrap>  0</span></td><td>19</td><td><span style=white-space:pre-wrap>  488</span></td><td>20</td><td>3751</td></tr>\n",
              "\t<tr><th scope=row>1641</th><td>Philippines</td><td>2019</td><td>Colgate-Palmolive                        </td><td>   0</td><td>  17</td><td>  394</td><td>   5</td><td>  15</td><td>  4</td><td> 0</td><td>  435</td><td>20</td><td>3751</td></tr>\n",
              "\t<tr><th scope=row>1642</th><td>Philippines</td><td>2019</td><td>W.L. Food Products                       </td><td>   0</td><td> 155</td><td>  249</td><td>   0</td><td>  18</td><td>  0</td><td> 0</td><td>  422</td><td>20</td><td>3751</td></tr>\n",
              "\t<tr><th scope=row>1643</th><td>Philippines</td><td>2019</td><td>Columbia International Food Products, Inc</td><td>   0</td><td>  24</td><td>  294</td><td>   0</td><td>   1</td><td> 12</td><td> 0</td><td>  331</td><td>20</td><td>3751</td></tr>\n",
              "\t<tr><th scope=row>1644</th><td>Philippines</td><td>2019</td><td>LT Group, Inc.                           </td><td>   0</td><td>   0</td><td>  242</td><td>  16</td><td>   0</td><td>  0</td><td> 0</td><td>  258</td><td>20</td><td>3751</td></tr>\n",
              "\t<tr><th scope=row>1645</th><td>Philippines</td><td>2019</td><td>Monde M.Y. San Corporation               </td><td>   0</td><td>  33</td><td>  207</td><td>   0</td><td>  16</td><td>  0</td><td> 0</td><td>  256</td><td>20</td><td>3751</td></tr>\n",
              "\t<tr><th scope=row>1646</th><td>Philippines</td><td>2019</td><td>Liwayway                                 </td><td>   0</td><td>  63</td><td>  177</td><td>   0</td><td>   0</td><td> 13</td><td> 0</td><td>  253</td><td>20</td><td>3751</td></tr>\n",
              "\t<tr><th scope=row>1647</th><td>Philippines</td><td>2019</td><td>Perfetti van Melle                       </td><td>   0</td><td>  51</td><td>  196</td><td>   0</td><td>   0</td><td>  0</td><td> 0</td><td>  247</td><td>20</td><td>3751</td></tr>\n",
              "\t<tr><th scope=row>1648</th><td>Philippines</td><td>2019</td><td>Republic Biscuit Corporation             </td><td>  12</td><td>  26</td><td>  193</td><td>   0</td><td>   9</td><td>  0</td><td> 0</td><td>  240</td><td>20</td><td>3751</td></tr>\n",
              "\t<tr><th scope=row>1649</th><td>Philippines</td><td>2019</td><td>Candy Makers Inc.                        </td><td>   0</td><td>   0</td><td>  237</td><td>   0</td><td>   0</td><td>  0</td><td> 0</td><td>  237</td><td>20</td><td>3751</td></tr>\n",
              "\t<tr><th scope=row>1650</th><td>Philippines</td><td>2019</td><td>Zest-O Corporation                       </td><td>   0</td><td>  18</td><td>   50</td><td>  24</td><td>  71</td><td>  0</td><td> 0</td><td>  163</td><td>20</td><td>3751</td></tr>\n",
              "\t<tr><th scope=row>1651</th><td>Philippines</td><td>2019</td><td>Multirich FC                             </td><td>   0</td><td>   2</td><td>  158</td><td>   0</td><td>   0</td><td>  3</td><td> 0</td><td>  163</td><td>20</td><td>3751</td></tr>\n",
              "\t<tr><th scope=row>1652</th><td>Philippines</td><td>2019</td><td>Pri-food Corp                            </td><td>   0</td><td>   0</td><td>  145</td><td>   0</td><td>   1</td><td>  0</td><td> 0</td><td>  146</td><td>20</td><td>3751</td></tr>\n",
              "\t<tr><th scope=row>1653</th><td>Philippines</td><td>2019</td><td>Mondelez International                   </td><td>   0</td><td>   8</td><td>  129</td><td>   4</td><td>   4</td><td>  0</td><td> 0</td><td>  145</td><td>20</td><td>3751</td></tr>\n",
              "\t<tr><th scope=row>1654</th><td>Philippines</td><td>2019</td><td>ACS Manufacturing Corporation            </td><td>   0</td><td> 109</td><td>   30</td><td>   0</td><td>   0</td><td>  0</td><td> 0</td><td>  139</td><td>20</td><td>3751</td></tr>\n",
              "\t<tr><th scope=row>1655</th><td>Philippines</td><td>2019</td><td>Century Pacific Food, Inc.               </td><td>   0</td><td>   0</td><td>  135</td><td>   0</td><td>   1</td><td>  0</td><td> 0</td><td>  136</td><td>20</td><td>3751</td></tr>\n",
              "\t<tr><th scope=row>1656</th><td>Philippines</td><td>2019</td><td>Ph. Spring Water Resources Inc.          </td><td>   0</td><td>   0</td><td>   36</td><td>  83</td><td>   0</td><td>  6</td><td> 0</td><td>  125</td><td>20</td><td>3751</td></tr>\n",
              "\t<tr><th scope=row>⋮</th><td>⋮</td><td>⋮</td><td>⋮</td><td>⋮</td><td>⋮</td><td>⋮</td><td>⋮</td><td>⋮</td><td>⋮</td><td>⋮</td><td>⋮</td><td>⋮</td><td>⋮</td></tr>\n",
              "\t<tr><th scope=row>2308</th><td>Philippines</td><td>2019</td><td>systema lion                </td><td>0</td><td>0</td><td>0</td><td>0</td><td>0</td><td>0</td><td>0</td><td>0</td><td>20</td><td>3751</td></tr>\n",
              "\t<tr><th scope=row>2309</th><td>Philippines</td><td>2019</td><td>gojo                        </td><td>0</td><td>0</td><td>0</td><td>0</td><td>0</td><td>0</td><td>0</td><td>0</td><td>20</td><td>3751</td></tr>\n",
              "\t<tr><th scope=row>2310</th><td>Philippines</td><td>2019</td><td>the candy maker incorporated</td><td>0</td><td>0</td><td>0</td><td>0</td><td>0</td><td>0</td><td>0</td><td>0</td><td>20</td><td>3751</td></tr>\n",
              "\t<tr><th scope=row>2311</th><td>Philippines</td><td>2019</td><td>the gatorade company        </td><td>0</td><td>0</td><td>0</td><td>0</td><td>0</td><td>0</td><td>0</td><td>0</td><td>20</td><td>3751</td></tr>\n",
              "\t<tr><th scope=row>2312</th><td>Philippines</td><td>2019</td><td>torch                       </td><td>0</td><td>0</td><td>0</td><td>0</td><td>0</td><td>0</td><td>0</td><td>0</td><td>20</td><td>3751</td></tr>\n",
              "\t<tr><th scope=row>2313</th><td>Philippines</td><td>2019</td><td>granada food                </td><td>0</td><td>0</td><td>0</td><td>0</td><td>0</td><td>0</td><td>0</td><td>0</td><td>20</td><td>3751</td></tr>\n",
              "\t<tr><th scope=row>2314</th><td>Philippines</td><td>2019</td><td>Modess                      </td><td>0</td><td>0</td><td>0</td><td>0</td><td>0</td><td>0</td><td>0</td><td>0</td><td>20</td><td>3751</td></tr>\n",
              "\t<tr><th scope=row>2315</th><td>Philippines</td><td>2019</td><td>enerlife philippines inc.   </td><td>0</td><td>0</td><td>0</td><td>0</td><td>0</td><td>0</td><td>0</td><td>0</td><td>20</td><td>3751</td></tr>\n",
              "\t<tr><th scope=row>2316</th><td>Philippines</td><td>2019</td><td>Beaver                      </td><td>0</td><td>0</td><td>0</td><td>0</td><td>0</td><td>0</td><td>0</td><td>0</td><td>20</td><td>3751</td></tr>\n",
              "\t<tr><th scope=row>2317</th><td>Philippines</td><td>2019</td><td>Jolly cow                   </td><td>0</td><td>0</td><td>0</td><td>0</td><td>0</td><td>0</td><td>0</td><td>0</td><td>20</td><td>3751</td></tr>\n",
              "\t<tr><th scope=row>2318</th><td>Philippines</td><td>2019</td><td>Inerts                      </td><td>0</td><td>0</td><td>0</td><td>0</td><td>0</td><td>0</td><td>0</td><td>0</td><td>20</td><td>3751</td></tr>\n",
              "\t<tr><th scope=row>2319</th><td>Philippines</td><td>2019</td><td>Gaisano Mall                </td><td>0</td><td>0</td><td>0</td><td>0</td><td>0</td><td>0</td><td>0</td><td>0</td><td>20</td><td>3751</td></tr>\n",
              "\t<tr><th scope=row>2320</th><td>Philippines</td><td>2019</td><td>Marlboro Cigarettes         </td><td>0</td><td>0</td><td>0</td><td>0</td><td>0</td><td>0</td><td>0</td><td>0</td><td>20</td><td>3751</td></tr>\n",
              "\t<tr><th scope=row>2321</th><td>Philippines</td><td>2019</td><td>Rain or Shine               </td><td>0</td><td>0</td><td>0</td><td>0</td><td>0</td><td>0</td><td>0</td><td>0</td><td>20</td><td>3751</td></tr>\n",
              "\t<tr><th scope=row>2322</th><td>Philippines</td><td>2019</td><td>White Dove                  </td><td>0</td><td>0</td><td>0</td><td>0</td><td>0</td><td>0</td><td>0</td><td>0</td><td>20</td><td>3751</td></tr>\n",
              "\t<tr><th scope=row>2323</th><td>Philippines</td><td>2019</td><td>Star Margarine              </td><td>0</td><td>0</td><td>0</td><td>0</td><td>0</td><td>0</td><td>0</td><td>0</td><td>20</td><td>3751</td></tr>\n",
              "\t<tr><th scope=row>2324</th><td>Philippines</td><td>2019</td><td>Nestle Granola              </td><td>0</td><td>0</td><td>0</td><td>0</td><td>0</td><td>0</td><td>0</td><td>0</td><td>20</td><td>3751</td></tr>\n",
              "\t<tr><th scope=row>2325</th><td>Philippines</td><td>2019</td><td>Lami Food                   </td><td>0</td><td>0</td><td>0</td><td>0</td><td>0</td><td>0</td><td>0</td><td>0</td><td>20</td><td>3751</td></tr>\n",
              "\t<tr><th scope=row>2326</th><td>Philippines</td><td>2019</td><td>THUC PHAM THIEN NHIEN       </td><td>0</td><td>0</td><td>0</td><td>0</td><td>0</td><td>0</td><td>0</td><td>0</td><td>20</td><td>3751</td></tr>\n",
              "\t<tr><th scope=row>2327</th><td>Philippines</td><td>2019</td><td>croly food                  </td><td>0</td><td>0</td><td>0</td><td>0</td><td>0</td><td>0</td><td>0</td><td>0</td><td>20</td><td>3751</td></tr>\n",
              "\t<tr><th scope=row>2328</th><td>Philippines</td><td>2019</td><td>THP GROUP                   </td><td>0</td><td>0</td><td>0</td><td>0</td><td>0</td><td>0</td><td>0</td><td>0</td><td>20</td><td>3751</td></tr>\n",
              "\t<tr><th scope=row>2329</th><td>Philippines</td><td>2019</td><td>Pure Gold                   </td><td>0</td><td>0</td><td>0</td><td>0</td><td>0</td><td>0</td><td>0</td><td>0</td><td>20</td><td>3751</td></tr>\n",
              "\t<tr><th scope=row>2330</th><td>Philippines</td><td>2019</td><td>Youngstown Sardines         </td><td>0</td><td>0</td><td>0</td><td>0</td><td>0</td><td>0</td><td>0</td><td>0</td><td>20</td><td>3751</td></tr>\n",
              "\t<tr><th scope=row>2331</th><td>Philippines</td><td>2019</td><td>Zagu                        </td><td>0</td><td>0</td><td>0</td><td>0</td><td>0</td><td>0</td><td>0</td><td>0</td><td>20</td><td>3751</td></tr>\n",
              "\t<tr><th scope=row>2332</th><td>Philippines</td><td>2019</td><td>J.CO                        </td><td>0</td><td>0</td><td>0</td><td>0</td><td>0</td><td>0</td><td>0</td><td>0</td><td>20</td><td>3751</td></tr>\n",
              "\t<tr><th scope=row>2333</th><td>Philippines</td><td>2019</td><td>Lcc                         </td><td>0</td><td>0</td><td>0</td><td>0</td><td>0</td><td>0</td><td>0</td><td>0</td><td>20</td><td>3751</td></tr>\n",
              "\t<tr><th scope=row>2334</th><td>Philippines</td><td>2019</td><td>Hansel Biscuits             </td><td>0</td><td>0</td><td>0</td><td>0</td><td>0</td><td>0</td><td>0</td><td>0</td><td>20</td><td>3751</td></tr>\n",
              "\t<tr><th scope=row>2335</th><td>Philippines</td><td>2019</td><td>avon products mfg.inc.      </td><td>0</td><td>0</td><td>0</td><td>0</td><td>0</td><td>0</td><td>0</td><td>0</td><td>20</td><td>3751</td></tr>\n",
              "\t<tr><th scope=row>2336</th><td>Philippines</td><td>2019</td><td>castor philippine inc.      </td><td>0</td><td>0</td><td>0</td><td>0</td><td>0</td><td>0</td><td>0</td><td>0</td><td>20</td><td>3751</td></tr>\n",
              "\t<tr><th scope=row>2337</th><td>Philippines</td><td>2019</td><td>C2 Iced tea                 </td><td>0</td><td>0</td><td>0</td><td>0</td><td>0</td><td>0</td><td>0</td><td>0</td><td>20</td><td>3751</td></tr>\n",
              "</tbody>\n",
              "</table>\n"
            ],
            "text/markdown": "\nA data.frame: 711 × 13\n\n| <!--/--> | country &lt;chr&gt; | year &lt;int&gt; | parent_company &lt;chr&gt; | hdpe &lt;dbl&gt; | ldpe &lt;dbl&gt; | o &lt;dbl&gt; | pet &lt;dbl&gt; | pp &lt;dbl&gt; | ps &lt;dbl&gt; | pvc &lt;dbl&gt; | grand_total &lt;dbl&gt; | num_events &lt;int&gt; | volunteers &lt;dbl&gt; |\n|---|---|---|---|---|---|---|---|---|---|---|---|---|---|\n| 1627 | Philippines | 2019 | Grand Total                               | 1439 | 8671 | 19841 | 4906 | 1305 | 766 | 88 | 37016 | 20 | 3751 |\n| 1628 | Philippines | 2019 | Unbranded                                 |  679 | 6358 |  8513 | 1132 |  229 | 523 | 68 | 17502 | 20 | 3751 |\n| 1629 | Philippines | 2019 | The Coca-Cola Company                     |  710 |   34 |   130 | 1793 |   94 |  43 |  0 |  2804 | 20 | 3751 |\n| 1630 | Philippines | 2019 | Nestlé                                    |    0 |   80 |  1431 |  156 |    5 |  83 |  0 |  1755 | 20 | 3751 |\n| 1631 | Philippines | 2019 | Universal Robina Corporation              |    0 |  134 |  1072 |  350 |   38 |  13 |  0 |  1607 | 20 | 3751 |\n| 1632 | Philippines | 2019 | Unilever                                  |    2 |  753 |   478 |   49 |   16 |   1 |  0 |  1299 | 20 | 3751 |\n| 1633 | Philippines | 2019 | JBC Food Corporation                      |    0 |   21 |   589 |    0 |   57 |   5 |  0 |   672 | 20 | 3751 |\n| 1634 | Philippines | 2019 | Philippine Spring Water Resources, Inc.   |    0 |    0 |   144 |  487 |    0 |   0 |  0 |   631 | 20 | 3751 |\n| 1635 | Philippines | 2019 | Liwayway Holdings Company Limited         |    0 |  121 |   433 |   49 |    0 |   0 |  0 |   603 | 20 | 3751 |\n| 1636 | Philippines | 2019 | San Miguel Corporation                    |    0 |    1 |    24 |    3 |  568 |   0 |  0 |   596 | 20 | 3751 |\n| 1637 | Philippines | 2019 | RBC                                       |    6 |    4 |   329 |  167 |    0 |  11 |  0 |   517 | 20 | 3751 |\n| 1638 | Philippines | 2019 | PT Mayora Indah Tbk                       |    0 |   10 |   457 |   23 |   27 |   0 |  0 |   517 | 20 | 3751 |\n| 1639 | Philippines | 2019 | Monde Nissin Corporation                  |    0 |   94 |   269 |   97 |    5 |  30 |  0 |   495 | 20 | 3751 |\n| 1640 | Philippines | 2019 | P&amp;G                                       |    2 |  105 |   296 |   39 |   27 |   0 | 19 |   488 | 20 | 3751 |\n| 1641 | Philippines | 2019 | Colgate-Palmolive                         |    0 |   17 |   394 |    5 |   15 |   4 |  0 |   435 | 20 | 3751 |\n| 1642 | Philippines | 2019 | W.L. Food Products                        |    0 |  155 |   249 |    0 |   18 |   0 |  0 |   422 | 20 | 3751 |\n| 1643 | Philippines | 2019 | Columbia International Food Products, Inc |    0 |   24 |   294 |    0 |    1 |  12 |  0 |   331 | 20 | 3751 |\n| 1644 | Philippines | 2019 | LT Group, Inc.                            |    0 |    0 |   242 |   16 |    0 |   0 |  0 |   258 | 20 | 3751 |\n| 1645 | Philippines | 2019 | Monde M.Y. San Corporation                |    0 |   33 |   207 |    0 |   16 |   0 |  0 |   256 | 20 | 3751 |\n| 1646 | Philippines | 2019 | Liwayway                                  |    0 |   63 |   177 |    0 |    0 |  13 |  0 |   253 | 20 | 3751 |\n| 1647 | Philippines | 2019 | Perfetti van Melle                        |    0 |   51 |   196 |    0 |    0 |   0 |  0 |   247 | 20 | 3751 |\n| 1648 | Philippines | 2019 | Republic Biscuit Corporation              |   12 |   26 |   193 |    0 |    9 |   0 |  0 |   240 | 20 | 3751 |\n| 1649 | Philippines | 2019 | Candy Makers Inc.                         |    0 |    0 |   237 |    0 |    0 |   0 |  0 |   237 | 20 | 3751 |\n| 1650 | Philippines | 2019 | Zest-O Corporation                        |    0 |   18 |    50 |   24 |   71 |   0 |  0 |   163 | 20 | 3751 |\n| 1651 | Philippines | 2019 | Multirich FC                              |    0 |    2 |   158 |    0 |    0 |   3 |  0 |   163 | 20 | 3751 |\n| 1652 | Philippines | 2019 | Pri-food Corp                             |    0 |    0 |   145 |    0 |    1 |   0 |  0 |   146 | 20 | 3751 |\n| 1653 | Philippines | 2019 | Mondelez International                    |    0 |    8 |   129 |    4 |    4 |   0 |  0 |   145 | 20 | 3751 |\n| 1654 | Philippines | 2019 | ACS Manufacturing Corporation             |    0 |  109 |    30 |    0 |    0 |   0 |  0 |   139 | 20 | 3751 |\n| 1655 | Philippines | 2019 | Century Pacific Food, Inc.                |    0 |    0 |   135 |    0 |    1 |   0 |  0 |   136 | 20 | 3751 |\n| 1656 | Philippines | 2019 | Ph. Spring Water Resources Inc.           |    0 |    0 |    36 |   83 |    0 |   6 |  0 |   125 | 20 | 3751 |\n| ⋮ | ⋮ | ⋮ | ⋮ | ⋮ | ⋮ | ⋮ | ⋮ | ⋮ | ⋮ | ⋮ | ⋮ | ⋮ | ⋮ |\n| 2308 | Philippines | 2019 | systema lion                 | 0 | 0 | 0 | 0 | 0 | 0 | 0 | 0 | 20 | 3751 |\n| 2309 | Philippines | 2019 | gojo                         | 0 | 0 | 0 | 0 | 0 | 0 | 0 | 0 | 20 | 3751 |\n| 2310 | Philippines | 2019 | the candy maker incorporated | 0 | 0 | 0 | 0 | 0 | 0 | 0 | 0 | 20 | 3751 |\n| 2311 | Philippines | 2019 | the gatorade company         | 0 | 0 | 0 | 0 | 0 | 0 | 0 | 0 | 20 | 3751 |\n| 2312 | Philippines | 2019 | torch                        | 0 | 0 | 0 | 0 | 0 | 0 | 0 | 0 | 20 | 3751 |\n| 2313 | Philippines | 2019 | granada food                 | 0 | 0 | 0 | 0 | 0 | 0 | 0 | 0 | 20 | 3751 |\n| 2314 | Philippines | 2019 | Modess                       | 0 | 0 | 0 | 0 | 0 | 0 | 0 | 0 | 20 | 3751 |\n| 2315 | Philippines | 2019 | enerlife philippines inc.    | 0 | 0 | 0 | 0 | 0 | 0 | 0 | 0 | 20 | 3751 |\n| 2316 | Philippines | 2019 | Beaver                       | 0 | 0 | 0 | 0 | 0 | 0 | 0 | 0 | 20 | 3751 |\n| 2317 | Philippines | 2019 | Jolly cow                    | 0 | 0 | 0 | 0 | 0 | 0 | 0 | 0 | 20 | 3751 |\n| 2318 | Philippines | 2019 | Inerts                       | 0 | 0 | 0 | 0 | 0 | 0 | 0 | 0 | 20 | 3751 |\n| 2319 | Philippines | 2019 | Gaisano Mall                 | 0 | 0 | 0 | 0 | 0 | 0 | 0 | 0 | 20 | 3751 |\n| 2320 | Philippines | 2019 | Marlboro Cigarettes          | 0 | 0 | 0 | 0 | 0 | 0 | 0 | 0 | 20 | 3751 |\n| 2321 | Philippines | 2019 | Rain or Shine                | 0 | 0 | 0 | 0 | 0 | 0 | 0 | 0 | 20 | 3751 |\n| 2322 | Philippines | 2019 | White Dove                   | 0 | 0 | 0 | 0 | 0 | 0 | 0 | 0 | 20 | 3751 |\n| 2323 | Philippines | 2019 | Star Margarine               | 0 | 0 | 0 | 0 | 0 | 0 | 0 | 0 | 20 | 3751 |\n| 2324 | Philippines | 2019 | Nestle Granola               | 0 | 0 | 0 | 0 | 0 | 0 | 0 | 0 | 20 | 3751 |\n| 2325 | Philippines | 2019 | Lami Food                    | 0 | 0 | 0 | 0 | 0 | 0 | 0 | 0 | 20 | 3751 |\n| 2326 | Philippines | 2019 | THUC PHAM THIEN NHIEN        | 0 | 0 | 0 | 0 | 0 | 0 | 0 | 0 | 20 | 3751 |\n| 2327 | Philippines | 2019 | croly food                   | 0 | 0 | 0 | 0 | 0 | 0 | 0 | 0 | 20 | 3751 |\n| 2328 | Philippines | 2019 | THP GROUP                    | 0 | 0 | 0 | 0 | 0 | 0 | 0 | 0 | 20 | 3751 |\n| 2329 | Philippines | 2019 | Pure Gold                    | 0 | 0 | 0 | 0 | 0 | 0 | 0 | 0 | 20 | 3751 |\n| 2330 | Philippines | 2019 | Youngstown Sardines          | 0 | 0 | 0 | 0 | 0 | 0 | 0 | 0 | 20 | 3751 |\n| 2331 | Philippines | 2019 | Zagu                         | 0 | 0 | 0 | 0 | 0 | 0 | 0 | 0 | 20 | 3751 |\n| 2332 | Philippines | 2019 | J.CO                         | 0 | 0 | 0 | 0 | 0 | 0 | 0 | 0 | 20 | 3751 |\n| 2333 | Philippines | 2019 | Lcc                          | 0 | 0 | 0 | 0 | 0 | 0 | 0 | 0 | 20 | 3751 |\n| 2334 | Philippines | 2019 | Hansel Biscuits              | 0 | 0 | 0 | 0 | 0 | 0 | 0 | 0 | 20 | 3751 |\n| 2335 | Philippines | 2019 | avon products mfg.inc.       | 0 | 0 | 0 | 0 | 0 | 0 | 0 | 0 | 20 | 3751 |\n| 2336 | Philippines | 2019 | castor philippine inc.       | 0 | 0 | 0 | 0 | 0 | 0 | 0 | 0 | 20 | 3751 |\n| 2337 | Philippines | 2019 | C2 Iced tea                  | 0 | 0 | 0 | 0 | 0 | 0 | 0 | 0 | 20 | 3751 |\n\n",
            "text/latex": "A data.frame: 711 × 13\n\\begin{tabular}{r|lllllllllllll}\n  & country & year & parent\\_company & hdpe & ldpe & o & pet & pp & ps & pvc & grand\\_total & num\\_events & volunteers\\\\\n  & <chr> & <int> & <chr> & <dbl> & <dbl> & <dbl> & <dbl> & <dbl> & <dbl> & <dbl> & <dbl> & <int> & <dbl>\\\\\n\\hline\n\t1627 & Philippines & 2019 & Grand Total                               & 1439 & 8671 & 19841 & 4906 & 1305 & 766 & 88 & 37016 & 20 & 3751\\\\\n\t1628 & Philippines & 2019 & Unbranded                                 &  679 & 6358 &  8513 & 1132 &  229 & 523 & 68 & 17502 & 20 & 3751\\\\\n\t1629 & Philippines & 2019 & The Coca-Cola Company                     &  710 &   34 &   130 & 1793 &   94 &  43 &  0 &  2804 & 20 & 3751\\\\\n\t1630 & Philippines & 2019 & Nestlé                                    &    0 &   80 &  1431 &  156 &    5 &  83 &  0 &  1755 & 20 & 3751\\\\\n\t1631 & Philippines & 2019 & Universal Robina Corporation              &    0 &  134 &  1072 &  350 &   38 &  13 &  0 &  1607 & 20 & 3751\\\\\n\t1632 & Philippines & 2019 & Unilever                                  &    2 &  753 &   478 &   49 &   16 &   1 &  0 &  1299 & 20 & 3751\\\\\n\t1633 & Philippines & 2019 & JBC Food Corporation                      &    0 &   21 &   589 &    0 &   57 &   5 &  0 &   672 & 20 & 3751\\\\\n\t1634 & Philippines & 2019 & Philippine Spring Water Resources, Inc.   &    0 &    0 &   144 &  487 &    0 &   0 &  0 &   631 & 20 & 3751\\\\\n\t1635 & Philippines & 2019 & Liwayway Holdings Company Limited         &    0 &  121 &   433 &   49 &    0 &   0 &  0 &   603 & 20 & 3751\\\\\n\t1636 & Philippines & 2019 & San Miguel Corporation                    &    0 &    1 &    24 &    3 &  568 &   0 &  0 &   596 & 20 & 3751\\\\\n\t1637 & Philippines & 2019 & RBC                                       &    6 &    4 &   329 &  167 &    0 &  11 &  0 &   517 & 20 & 3751\\\\\n\t1638 & Philippines & 2019 & PT Mayora Indah Tbk                       &    0 &   10 &   457 &   23 &   27 &   0 &  0 &   517 & 20 & 3751\\\\\n\t1639 & Philippines & 2019 & Monde Nissin Corporation                  &    0 &   94 &   269 &   97 &    5 &  30 &  0 &   495 & 20 & 3751\\\\\n\t1640 & Philippines & 2019 & P\\&G                                       &    2 &  105 &   296 &   39 &   27 &   0 & 19 &   488 & 20 & 3751\\\\\n\t1641 & Philippines & 2019 & Colgate-Palmolive                         &    0 &   17 &   394 &    5 &   15 &   4 &  0 &   435 & 20 & 3751\\\\\n\t1642 & Philippines & 2019 & W.L. Food Products                        &    0 &  155 &   249 &    0 &   18 &   0 &  0 &   422 & 20 & 3751\\\\\n\t1643 & Philippines & 2019 & Columbia International Food Products, Inc &    0 &   24 &   294 &    0 &    1 &  12 &  0 &   331 & 20 & 3751\\\\\n\t1644 & Philippines & 2019 & LT Group, Inc.                            &    0 &    0 &   242 &   16 &    0 &   0 &  0 &   258 & 20 & 3751\\\\\n\t1645 & Philippines & 2019 & Monde M.Y. San Corporation                &    0 &   33 &   207 &    0 &   16 &   0 &  0 &   256 & 20 & 3751\\\\\n\t1646 & Philippines & 2019 & Liwayway                                  &    0 &   63 &   177 &    0 &    0 &  13 &  0 &   253 & 20 & 3751\\\\\n\t1647 & Philippines & 2019 & Perfetti van Melle                        &    0 &   51 &   196 &    0 &    0 &   0 &  0 &   247 & 20 & 3751\\\\\n\t1648 & Philippines & 2019 & Republic Biscuit Corporation              &   12 &   26 &   193 &    0 &    9 &   0 &  0 &   240 & 20 & 3751\\\\\n\t1649 & Philippines & 2019 & Candy Makers Inc.                         &    0 &    0 &   237 &    0 &    0 &   0 &  0 &   237 & 20 & 3751\\\\\n\t1650 & Philippines & 2019 & Zest-O Corporation                        &    0 &   18 &    50 &   24 &   71 &   0 &  0 &   163 & 20 & 3751\\\\\n\t1651 & Philippines & 2019 & Multirich FC                              &    0 &    2 &   158 &    0 &    0 &   3 &  0 &   163 & 20 & 3751\\\\\n\t1652 & Philippines & 2019 & Pri-food Corp                             &    0 &    0 &   145 &    0 &    1 &   0 &  0 &   146 & 20 & 3751\\\\\n\t1653 & Philippines & 2019 & Mondelez International                    &    0 &    8 &   129 &    4 &    4 &   0 &  0 &   145 & 20 & 3751\\\\\n\t1654 & Philippines & 2019 & ACS Manufacturing Corporation             &    0 &  109 &    30 &    0 &    0 &   0 &  0 &   139 & 20 & 3751\\\\\n\t1655 & Philippines & 2019 & Century Pacific Food, Inc.                &    0 &    0 &   135 &    0 &    1 &   0 &  0 &   136 & 20 & 3751\\\\\n\t1656 & Philippines & 2019 & Ph. Spring Water Resources Inc.           &    0 &    0 &    36 &   83 &    0 &   6 &  0 &   125 & 20 & 3751\\\\\n\t⋮ & ⋮ & ⋮ & ⋮ & ⋮ & ⋮ & ⋮ & ⋮ & ⋮ & ⋮ & ⋮ & ⋮ & ⋮ & ⋮\\\\\n\t2308 & Philippines & 2019 & systema lion                 & 0 & 0 & 0 & 0 & 0 & 0 & 0 & 0 & 20 & 3751\\\\\n\t2309 & Philippines & 2019 & gojo                         & 0 & 0 & 0 & 0 & 0 & 0 & 0 & 0 & 20 & 3751\\\\\n\t2310 & Philippines & 2019 & the candy maker incorporated & 0 & 0 & 0 & 0 & 0 & 0 & 0 & 0 & 20 & 3751\\\\\n\t2311 & Philippines & 2019 & the gatorade company         & 0 & 0 & 0 & 0 & 0 & 0 & 0 & 0 & 20 & 3751\\\\\n\t2312 & Philippines & 2019 & torch                        & 0 & 0 & 0 & 0 & 0 & 0 & 0 & 0 & 20 & 3751\\\\\n\t2313 & Philippines & 2019 & granada food                 & 0 & 0 & 0 & 0 & 0 & 0 & 0 & 0 & 20 & 3751\\\\\n\t2314 & Philippines & 2019 & Modess                       & 0 & 0 & 0 & 0 & 0 & 0 & 0 & 0 & 20 & 3751\\\\\n\t2315 & Philippines & 2019 & enerlife philippines inc.    & 0 & 0 & 0 & 0 & 0 & 0 & 0 & 0 & 20 & 3751\\\\\n\t2316 & Philippines & 2019 & Beaver                       & 0 & 0 & 0 & 0 & 0 & 0 & 0 & 0 & 20 & 3751\\\\\n\t2317 & Philippines & 2019 & Jolly cow                    & 0 & 0 & 0 & 0 & 0 & 0 & 0 & 0 & 20 & 3751\\\\\n\t2318 & Philippines & 2019 & Inerts                       & 0 & 0 & 0 & 0 & 0 & 0 & 0 & 0 & 20 & 3751\\\\\n\t2319 & Philippines & 2019 & Gaisano Mall                 & 0 & 0 & 0 & 0 & 0 & 0 & 0 & 0 & 20 & 3751\\\\\n\t2320 & Philippines & 2019 & Marlboro Cigarettes          & 0 & 0 & 0 & 0 & 0 & 0 & 0 & 0 & 20 & 3751\\\\\n\t2321 & Philippines & 2019 & Rain or Shine                & 0 & 0 & 0 & 0 & 0 & 0 & 0 & 0 & 20 & 3751\\\\\n\t2322 & Philippines & 2019 & White Dove                   & 0 & 0 & 0 & 0 & 0 & 0 & 0 & 0 & 20 & 3751\\\\\n\t2323 & Philippines & 2019 & Star Margarine               & 0 & 0 & 0 & 0 & 0 & 0 & 0 & 0 & 20 & 3751\\\\\n\t2324 & Philippines & 2019 & Nestle Granola               & 0 & 0 & 0 & 0 & 0 & 0 & 0 & 0 & 20 & 3751\\\\\n\t2325 & Philippines & 2019 & Lami Food                    & 0 & 0 & 0 & 0 & 0 & 0 & 0 & 0 & 20 & 3751\\\\\n\t2326 & Philippines & 2019 & THUC PHAM THIEN NHIEN        & 0 & 0 & 0 & 0 & 0 & 0 & 0 & 0 & 20 & 3751\\\\\n\t2327 & Philippines & 2019 & croly food                   & 0 & 0 & 0 & 0 & 0 & 0 & 0 & 0 & 20 & 3751\\\\\n\t2328 & Philippines & 2019 & THP GROUP                    & 0 & 0 & 0 & 0 & 0 & 0 & 0 & 0 & 20 & 3751\\\\\n\t2329 & Philippines & 2019 & Pure Gold                    & 0 & 0 & 0 & 0 & 0 & 0 & 0 & 0 & 20 & 3751\\\\\n\t2330 & Philippines & 2019 & Youngstown Sardines          & 0 & 0 & 0 & 0 & 0 & 0 & 0 & 0 & 20 & 3751\\\\\n\t2331 & Philippines & 2019 & Zagu                         & 0 & 0 & 0 & 0 & 0 & 0 & 0 & 0 & 20 & 3751\\\\\n\t2332 & Philippines & 2019 & J.CO                         & 0 & 0 & 0 & 0 & 0 & 0 & 0 & 0 & 20 & 3751\\\\\n\t2333 & Philippines & 2019 & Lcc                          & 0 & 0 & 0 & 0 & 0 & 0 & 0 & 0 & 20 & 3751\\\\\n\t2334 & Philippines & 2019 & Hansel Biscuits              & 0 & 0 & 0 & 0 & 0 & 0 & 0 & 0 & 20 & 3751\\\\\n\t2335 & Philippines & 2019 & avon products mfg.inc.       & 0 & 0 & 0 & 0 & 0 & 0 & 0 & 0 & 20 & 3751\\\\\n\t2336 & Philippines & 2019 & castor philippine inc.       & 0 & 0 & 0 & 0 & 0 & 0 & 0 & 0 & 20 & 3751\\\\\n\t2337 & Philippines & 2019 & C2 Iced tea                  & 0 & 0 & 0 & 0 & 0 & 0 & 0 & 0 & 20 & 3751\\\\\n\\end{tabular}\n",
            "text/plain": [
              "     country     year parent_company                            hdpe ldpe o    \n",
              "1627 Philippines 2019 Grand Total                               1439 8671 19841\n",
              "1628 Philippines 2019 Unbranded                                  679 6358  8513\n",
              "1629 Philippines 2019 The Coca-Cola Company                      710   34   130\n",
              "1630 Philippines 2019 Nestlé                                       0   80  1431\n",
              "1631 Philippines 2019 Universal Robina Corporation                 0  134  1072\n",
              "1632 Philippines 2019 Unilever                                     2  753   478\n",
              "1633 Philippines 2019 JBC Food Corporation                         0   21   589\n",
              "1634 Philippines 2019 Philippine Spring Water Resources, Inc.      0    0   144\n",
              "1635 Philippines 2019 Liwayway Holdings Company Limited            0  121   433\n",
              "1636 Philippines 2019 San Miguel Corporation                       0    1    24\n",
              "1637 Philippines 2019 RBC                                          6    4   329\n",
              "1638 Philippines 2019 PT Mayora Indah Tbk                          0   10   457\n",
              "1639 Philippines 2019 Monde Nissin Corporation                     0   94   269\n",
              "1640 Philippines 2019 P&G                                          2  105   296\n",
              "1641 Philippines 2019 Colgate-Palmolive                            0   17   394\n",
              "1642 Philippines 2019 W.L. Food Products                           0  155   249\n",
              "1643 Philippines 2019 Columbia International Food Products, Inc    0   24   294\n",
              "1644 Philippines 2019 LT Group, Inc.                               0    0   242\n",
              "1645 Philippines 2019 Monde M.Y. San Corporation                   0   33   207\n",
              "1646 Philippines 2019 Liwayway                                     0   63   177\n",
              "1647 Philippines 2019 Perfetti van Melle                           0   51   196\n",
              "1648 Philippines 2019 Republic Biscuit Corporation                12   26   193\n",
              "1649 Philippines 2019 Candy Makers Inc.                            0    0   237\n",
              "1650 Philippines 2019 Zest-O Corporation                           0   18    50\n",
              "1651 Philippines 2019 Multirich FC                                 0    2   158\n",
              "1652 Philippines 2019 Pri-food Corp                                0    0   145\n",
              "1653 Philippines 2019 Mondelez International                       0    8   129\n",
              "1654 Philippines 2019 ACS Manufacturing Corporation                0  109    30\n",
              "1655 Philippines 2019 Century Pacific Food, Inc.                   0    0   135\n",
              "1656 Philippines 2019 Ph. Spring Water Resources Inc.              0    0    36\n",
              "⋮    ⋮           ⋮    ⋮                                         ⋮    ⋮    ⋮    \n",
              "2308 Philippines 2019 systema lion                              0    0    0    \n",
              "2309 Philippines 2019 gojo                                      0    0    0    \n",
              "2310 Philippines 2019 the candy maker incorporated              0    0    0    \n",
              "2311 Philippines 2019 the gatorade company                      0    0    0    \n",
              "2312 Philippines 2019 torch                                     0    0    0    \n",
              "2313 Philippines 2019 granada food                              0    0    0    \n",
              "2314 Philippines 2019 Modess                                    0    0    0    \n",
              "2315 Philippines 2019 enerlife philippines inc.                 0    0    0    \n",
              "2316 Philippines 2019 Beaver                                    0    0    0    \n",
              "2317 Philippines 2019 Jolly cow                                 0    0    0    \n",
              "2318 Philippines 2019 Inerts                                    0    0    0    \n",
              "2319 Philippines 2019 Gaisano Mall                              0    0    0    \n",
              "2320 Philippines 2019 Marlboro Cigarettes                       0    0    0    \n",
              "2321 Philippines 2019 Rain or Shine                             0    0    0    \n",
              "2322 Philippines 2019 White Dove                                0    0    0    \n",
              "2323 Philippines 2019 Star Margarine                            0    0    0    \n",
              "2324 Philippines 2019 Nestle Granola                            0    0    0    \n",
              "2325 Philippines 2019 Lami Food                                 0    0    0    \n",
              "2326 Philippines 2019 THUC PHAM THIEN NHIEN                     0    0    0    \n",
              "2327 Philippines 2019 croly food                                0    0    0    \n",
              "2328 Philippines 2019 THP GROUP                                 0    0    0    \n",
              "2329 Philippines 2019 Pure Gold                                 0    0    0    \n",
              "2330 Philippines 2019 Youngstown Sardines                       0    0    0    \n",
              "2331 Philippines 2019 Zagu                                      0    0    0    \n",
              "2332 Philippines 2019 J.CO                                      0    0    0    \n",
              "2333 Philippines 2019 Lcc                                       0    0    0    \n",
              "2334 Philippines 2019 Hansel Biscuits                           0    0    0    \n",
              "2335 Philippines 2019 avon products mfg.inc.                    0    0    0    \n",
              "2336 Philippines 2019 castor philippine inc.                    0    0    0    \n",
              "2337 Philippines 2019 C2 Iced tea                               0    0    0    \n",
              "     pet  pp   ps  pvc grand_total num_events volunteers\n",
              "1627 4906 1305 766 88  37016       20         3751      \n",
              "1628 1132  229 523 68  17502       20         3751      \n",
              "1629 1793   94  43  0   2804       20         3751      \n",
              "1630  156    5  83  0   1755       20         3751      \n",
              "1631  350   38  13  0   1607       20         3751      \n",
              "1632   49   16   1  0   1299       20         3751      \n",
              "1633    0   57   5  0    672       20         3751      \n",
              "1634  487    0   0  0    631       20         3751      \n",
              "1635   49    0   0  0    603       20         3751      \n",
              "1636    3  568   0  0    596       20         3751      \n",
              "1637  167    0  11  0    517       20         3751      \n",
              "1638   23   27   0  0    517       20         3751      \n",
              "1639   97    5  30  0    495       20         3751      \n",
              "1640   39   27   0 19    488       20         3751      \n",
              "1641    5   15   4  0    435       20         3751      \n",
              "1642    0   18   0  0    422       20         3751      \n",
              "1643    0    1  12  0    331       20         3751      \n",
              "1644   16    0   0  0    258       20         3751      \n",
              "1645    0   16   0  0    256       20         3751      \n",
              "1646    0    0  13  0    253       20         3751      \n",
              "1647    0    0   0  0    247       20         3751      \n",
              "1648    0    9   0  0    240       20         3751      \n",
              "1649    0    0   0  0    237       20         3751      \n",
              "1650   24   71   0  0    163       20         3751      \n",
              "1651    0    0   3  0    163       20         3751      \n",
              "1652    0    1   0  0    146       20         3751      \n",
              "1653    4    4   0  0    145       20         3751      \n",
              "1654    0    0   0  0    139       20         3751      \n",
              "1655    0    1   0  0    136       20         3751      \n",
              "1656   83    0   6  0    125       20         3751      \n",
              "⋮    ⋮    ⋮    ⋮   ⋮   ⋮           ⋮          ⋮         \n",
              "2308 0    0    0   0   0           20         3751      \n",
              "2309 0    0    0   0   0           20         3751      \n",
              "2310 0    0    0   0   0           20         3751      \n",
              "2311 0    0    0   0   0           20         3751      \n",
              "2312 0    0    0   0   0           20         3751      \n",
              "2313 0    0    0   0   0           20         3751      \n",
              "2314 0    0    0   0   0           20         3751      \n",
              "2315 0    0    0   0   0           20         3751      \n",
              "2316 0    0    0   0   0           20         3751      \n",
              "2317 0    0    0   0   0           20         3751      \n",
              "2318 0    0    0   0   0           20         3751      \n",
              "2319 0    0    0   0   0           20         3751      \n",
              "2320 0    0    0   0   0           20         3751      \n",
              "2321 0    0    0   0   0           20         3751      \n",
              "2322 0    0    0   0   0           20         3751      \n",
              "2323 0    0    0   0   0           20         3751      \n",
              "2324 0    0    0   0   0           20         3751      \n",
              "2325 0    0    0   0   0           20         3751      \n",
              "2326 0    0    0   0   0           20         3751      \n",
              "2327 0    0    0   0   0           20         3751      \n",
              "2328 0    0    0   0   0           20         3751      \n",
              "2329 0    0    0   0   0           20         3751      \n",
              "2330 0    0    0   0   0           20         3751      \n",
              "2331 0    0    0   0   0           20         3751      \n",
              "2332 0    0    0   0   0           20         3751      \n",
              "2333 0    0    0   0   0           20         3751      \n",
              "2334 0    0    0   0   0           20         3751      \n",
              "2335 0    0    0   0   0           20         3751      \n",
              "2336 0    0    0   0   0           20         3751      \n",
              "2337 0    0    0   0   0           20         3751      "
            ]
          },
          "metadata": {}
        }
      ]
    },
    {
      "cell_type": "code",
      "source": [
        "# Compute plastic contributions for 2019\n",
        "plastic_contributions_2019 <- colSums(data_philippines_2019[, c(\"hdpe\", \"ldpe\", \"pet\", \"pp\", \"ps\", \"pvc\")])\n",
        "\n",
        "# Identify the plastic type with the highest count in 2019\n",
        "max_plastic_2019 <- names(plastic_contributions_2019)[which.max(plastic_contributions_2019)]\n",
        "\n",
        "# Compute plastic contributions for 2020\n",
        "plastic_contributions_2020 <- colSums(data_philippines_2020[, c(\"hdpe\", \"ldpe\", \"pet\", \"pp\", \"ps\", \"pvc\")])\n",
        "\n",
        "# Identify the plastic type with the highest count in 2020\n",
        "max_plastic_2020 <- names(plastic_contributions_2020)[which.max(plastic_contributions_2020)]\n",
        "\n",
        "# Print the results\n",
        "cat(\"In 2019, the plastic type contributing the most is:\", max_plastic_2019, \"\\n\")\n",
        "cat(\"In 2020, the plastic type contributing the most is:\", max_plastic_2020, \"\\n\")"
      ],
      "metadata": {
        "colab": {
          "base_uri": "https://localhost:8080/"
        },
        "id": "fHdeixu5p5Tc",
        "outputId": "e456c8d7-6eae-42a9-feff-bc675b970118"
      },
      "execution_count": null,
      "outputs": [
        {
          "output_type": "stream",
          "name": "stdout",
          "text": [
            "In 2019, the plastic type contributing the most is: ldpe \n",
            "In 2020, the plastic type contributing the most is: pp \n"
          ]
        }
      ]
    },
    {
      "cell_type": "code",
      "source": [
        "# Assuming 'data' is your dataset\n",
        "\n",
        "# Compute total plastic produced in the Philippines for 2019\n",
        "total_plastic_2019 <- sum(subset(data, country == \"Philippines\" & year == 2019)$grand_total)\n",
        "\n",
        "# Compute total plastic produced in the Philippines for 2020\n",
        "total_plastic_2020 <- sum(subset(data, country == \"Philippines\" & year == 2020)$grand_total)\n",
        "\n",
        "# Print the results\n",
        "cat(\"Total plastic produced in the Philippines in 2019:\", total_plastic_2019, \"\\n\")\n",
        "cat(\"Total plastic produced in the Philippines in 2020:\", total_plastic_2020, \"\\n\")"
      ],
      "metadata": {
        "colab": {
          "base_uri": "https://localhost:8080/"
        },
        "id": "vmefowrjp7yq",
        "outputId": "c2563ebd-022e-4d65-8ee0-48ee399acc60"
      },
      "execution_count": null,
      "outputs": [
        {
          "output_type": "stream",
          "name": "stdout",
          "text": [
            "Total plastic produced in the Philippines in 2019: 74032 \n",
            "Total plastic produced in the Philippines in 2020: 47894 \n"
          ]
        }
      ]
    },
    {
      "cell_type": "code",
      "source": [
        "# Compute the total count for the most contributing plastic type in 2019\n",
        "count_most_contributing_2019 <- sum(subset(data, country == \"Philippines\" & year == 2019)[, max_plastic_2019])\n",
        "\n",
        "# Compute the total count for the most contributing plastic type in 2020\n",
        "count_most_contributing_2020 <- sum(subset(data, country == \"Philippines\" & year == 2020)[, max_plastic_2019])\n",
        "\n",
        "# Check if the count for the most contributing plastic type decreased\n",
        "if (count_most_contributing_2020 < count_most_contributing_2019) {\n",
        "  cat(\"The count for the most contributing plastic type decreased from 2019 to 2020.\\n\")\n",
        "} else {\n",
        "  cat(\"The count for the most contributing plastic type did not decrease from 2019 to 2020.\\n\")\n",
        "}\n",
        "\n",
        "# Perform a hypothesis test on the total plastic production\n",
        "t_test_result <- t.test(subset(data, country == \"Philippines\" & year == 2019)[, max_plastic_2019],\n",
        "                        subset(data, country == \"Philippines\" & year == 2020)[, max_plastic_2020])\n",
        "\n",
        "# Print the t-test result\n",
        "print(t_test_result)\n",
        "\n",
        "# Access the p-value from the t-test result\n",
        "p_value <- t_test_result$p.value\n",
        "\n",
        "# Compare with significance level (e.g., 0.05)\n",
        "if (p_value < 0.05) {\n",
        "  cat(\"Reject the null hypothesis: There is a significant decrease in total plastic production from 2019 to 2020.\\n\")\n",
        "} else {\n",
        "  cat(\"Do not reject the null hypothesis: No significant difference in total plastic production between 2019 and 2020.\\n\")\n",
        "}"
      ],
      "metadata": {
        "colab": {
          "base_uri": "https://localhost:8080/"
        },
        "id": "XGPxsiLzp_Fk",
        "outputId": "53328d7c-5178-4e63-8ae6-6c735f519291"
      },
      "execution_count": null,
      "outputs": [
        {
          "output_type": "stream",
          "name": "stdout",
          "text": [
            "The count for the most contributing plastic type decreased from 2019 to 2020.\n",
            "\n",
            "\tWelch Two Sample t-test\n",
            "\n",
            "data:  subset(data, country == \"Philippines\" & year == 2019)[, max_plastic_2019] and subset(data, country == \"Philippines\" & year == 2020)[, max_plastic_2020]\n",
            "t = -2.9546, df = 124.14, p-value = 0.003747\n",
            "alternative hypothesis: true difference in means is not equal to 0\n",
            "95 percent confidence interval:\n",
            " -471.74290  -93.25661\n",
            "sample estimates:\n",
            "mean of x mean of y \n",
            "  24.3910  306.8908 \n",
            "\n",
            "Reject the null hypothesis: There is a significant decrease in total plastic production from 2019 to 2020.\n"
          ]
        }
      ]
    }
  ]
}